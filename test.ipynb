{
 "cells": [
  {
   "cell_type": "code",
   "execution_count": 36,
   "metadata": {},
   "outputs": [
    {
     "data": {
      "text/plain": [
       "7515.648"
      ]
     },
     "execution_count": 36,
     "metadata": {},
     "output_type": "execute_result"
    }
   ],
   "source": [
    "import utility\n",
    "\n",
    "utility.lj_potential(0.5,10)"
   ]
  },
  {
   "cell_type": "code",
   "execution_count": 37,
   "metadata": {},
   "outputs": [
    {
     "data": {
      "text/plain": [
       "3"
      ]
     },
     "execution_count": 37,
     "metadata": {},
     "output_type": "execute_result"
    }
   ],
   "source": [
    "utility.pbc(43,10)"
   ]
  },
  {
   "cell_type": "code",
   "execution_count": 38,
   "metadata": {},
   "outputs": [],
   "source": [
    "import init\n",
    "#parameters\n",
    "rho = 0.01\n",
    "Npart = 108\n",
    "box_length = (Npart / rho) ** (1/3)\n",
    "# print(box_length)\n",
    "bond_length = 2.353  #angstrom\n",
    "\n",
    "k = 30\n",
    "temp = 300 #kelvin\n",
    "beta = 1\n",
    "\n",
    "debug = True\n",
    "accepted_steps = 0"
   ]
  },
  {
   "cell_type": "code",
   "execution_count": 39,
   "metadata": {},
   "outputs": [],
   "source": [
    "positions = init.init_system(box_length, Npart)\n"
   ]
  },
  {
   "cell_type": "code",
   "execution_count": 40,
   "metadata": {},
   "outputs": [],
   "source": [
    "positions\n",
    "import random\n",
    "import numpy as np\n"
   ]
  },
  {
   "cell_type": "code",
   "execution_count": 41,
   "metadata": {},
   "outputs": [
    {
     "data": {
      "text/plain": [
       "94"
      ]
     },
     "execution_count": 41,
     "metadata": {},
     "output_type": "execute_result"
    }
   ],
   "source": [
    "idx = random.randint(0,Npart-1)\n",
    "idx"
   ]
  },
  {
   "cell_type": "code",
   "execution_count": 42,
   "metadata": {},
   "outputs": [
    {
     "data": {
      "text/plain": [
       "array([[ 5.99843389,  9.11774867, 12.34622867],\n",
       "       [ 6.74191329,  9.64762153, 12.75423986]])"
      ]
     },
     "execution_count": 42,
     "metadata": {},
     "output_type": "execute_result"
    }
   ],
   "source": [
    "prev_position = np.copy(positions[idx])\n",
    "prev_position"
   ]
  },
  {
   "cell_type": "code",
   "execution_count": 43,
   "metadata": {},
   "outputs": [
    {
     "data": {
      "text/plain": [
       "31.3574466957557"
      ]
     },
     "execution_count": 43,
     "metadata": {},
     "output_type": "execute_result"
    }
   ],
   "source": [
    "Wo1 = k * np.exp(-beta * utility.energy_of_particle(idx,0,positions,box_length))\n",
    "Wo1"
   ]
  },
  {
   "cell_type": "code",
   "execution_count": 44,
   "metadata": {},
   "outputs": [
    {
     "name": "stdout",
     "output_type": "stream",
     "text": [
      "1035.6312158836301\n"
     ]
    }
   ],
   "source": [
    "Wo2 = np.exp(-beta * utility.energy_of_particle(idx,1,positions,box_length))\n",
    "for i in range(k-1):\n",
    "    r = utility.generate_random_unit_vector() * bond_length\n",
    "    positions[idx][1] = positions[idx][0] + r\n",
    "    Wo2 += np.exp(-beta * utility.energy_of_particle(idx,1,positions,box_length))\n",
    "    \n",
    "Wo = Wo1 * Wo2\n",
    "print(Wo)"
   ]
  },
  {
   "cell_type": "code",
   "execution_count": 45,
   "metadata": {},
   "outputs": [
    {
     "data": {
      "text/plain": [
       "array([14.20317888,  6.18205112, 16.76257208])"
      ]
     },
     "execution_count": 45,
     "metadata": {},
     "output_type": "execute_result"
    }
   ],
   "source": [
    "positions[idx][0] = np.random.rand(3)* box_length\n",
    "positions[idx][0]"
   ]
  },
  {
   "cell_type": "code",
   "execution_count": 46,
   "metadata": {},
   "outputs": [
    {
     "data": {
      "text/plain": [
       "44.77472001469033"
      ]
     },
     "execution_count": 46,
     "metadata": {},
     "output_type": "execute_result"
    }
   ],
   "source": [
    "Wn1 =  k * np.exp(-beta * utility.energy_of_particle(idx,0,positions,box_length))\n",
    "Wn1"
   ]
  },
  {
   "cell_type": "code",
   "execution_count": 47,
   "metadata": {},
   "outputs": [
    {
     "ename": "IndentationError",
     "evalue": "unexpected indent (223658740.py, line 2)",
     "output_type": "error",
     "traceback": [
      "\u001b[0;36m  File \u001b[0;32m\"/tmp/ipykernel_5204/223658740.py\"\u001b[0;36m, line \u001b[0;32m2\u001b[0m\n\u001b[0;31m    global accepted_steps\u001b[0m\n\u001b[0m    ^\u001b[0m\n\u001b[0;31mIndentationError\u001b[0m\u001b[0;31m:\u001b[0m unexpected indent\n"
     ]
    }
   ],
   "source": [
    "#select a random_chain\n",
    "    global accepted_steps\n",
    "    idx = random.randint(0,Npart-1)\n",
    "    #find rosenbluth factor for previous configuration\n",
    "    prev_position = np.copy(positions[idx])\n",
    "    Wo1 = k * np.exp(-beta * utility.energy_of_particle(idx,0,positions,box_length))\n",
    "    Wo2 = np.exp(-beta * utility.energy_of_particle(idx,1,positions,box_length))\n",
    "    for i in range(k-1):\n",
    "        r = utility.generate_random_unit_vector() * bond_length\n",
    "        positions[idx][1] = positions[idx][0] + r\n",
    "        Wo2 += np.exp(-beta * utility.energy_of_particle(idx,1,positions,box_length))\n",
    "    \n",
    "    Wo = Wo1 * Wo2\n",
    "    #find rosenbluth factor for new configuration\n",
    "    #choose a random postion for first atom\n",
    "    positions[idx][0] = np.random.rand(3)* box_length\n",
    "    Wn1 =  k * np.exp(-beta * utility.energy_of_particle(idx,0,positions,box_length))\n",
    "    second_atom_pos = []\n",
    "    Wn2 = []\n",
    "    for i in range(k):\n",
    "        r = utility.generate_random_unit_vector()* bond_length\n",
    "        positions[idx][1] = positions[idx][0] + r\n",
    "        second_atom_pos.append(positions[idx][1])\n",
    "        Wn2.append(np.exp(-beta * utility.energy_of_particle(idx,1,positions,box_length)))\n",
    "\n",
    "    Wn2_sum = sum(Wn2)\n",
    "\n",
    "    #select a configuration i with probaility Wn2[i]/Wn2_sum\n",
    "    cum_Wn2 = Wn2[0]\n",
    "    r_Wn2_sum = random.random()*Wn2_sum\n",
    "    i = 0\n",
    "    while cum_Wn2 < r_Wn2_sum:\n",
    "        i +=1\n",
    "        cum_Wn2 += Wn2[i]\n",
    "    print(i, Wn2[i])\n",
    "    Wn = Wn1 * Wn2_sum\n",
    "    #replace position of second atom with selected second atom configuration \n",
    "    positions[idx][1] = second_atom_pos[i]\n",
    "    print(Wo, \" \", Wn)\n",
    "    if Wn < Wo and random.random() > Wn/Wo:\n",
    "        #not accept\n",
    "        positions[idx] = prev_position   \n",
    "    else :\n",
    "        accepted_steps += 1\n",
    "        if debug:\n",
    "            print(\"new move accepted\")\n",
    "    \n",
    "    return \n"
   ]
  },
  {
   "cell_type": "code",
   "execution_count": 56,
   "metadata": {},
   "outputs": [
    {
     "name": "stdout",
     "output_type": "stream",
     "text": [
      "new move accepted\n",
      "1.3547276553895107 36.70901646637063 0.07009963301977612 1.6554995881936871 0.9776043297445973\n",
      "1.3547276553895107\n",
      "new move accepted\n",
      "1.099107745797054 34.81594978610323 0.023464746888574296 1.8425126641721044 1.9272971897763256\n",
      "new move accepted\n",
      "1.6261385025221553 40.75243536555033 0.055832067756944985 1.381836219253462 1.1890182737548933\n",
      "new move accepted\n",
      "1.0235508708842584 32.40251801530919 0.03282185556699974 1.9274370681612047 2.589668834603423\n",
      "new move accepted\n",
      "1.9132696217646943 31.524618683884597 0.054685684912412415 2.46004104755368 1.175415455919077\n",
      "new move accepted\n",
      "1.0579020573658757 38.99699475973712 0.03049799380519657 1.5024441845574596 2.2948491705750755\n",
      "new move accepted\n",
      "1.2319399135957978 31.382804927730803 0.04311540823868851 1.9825067885669532 1.589186433514872\n",
      "new move accepted\n",
      "1.0312115354343683 33.0023547496211 0.032922969184164444 1.881137383145085 2.3887547888751044\n",
      "new move accepted\n",
      "1.479081325495572 31.01516208450501 0.06603220578959046 2.282151088581568 1.3379449233367753\n",
      "new move accepted\n",
      "1.6950398308106946 33.70432208924683 0.04272118491183019 1.9000444843592286 1.5104821731089295\n",
      "new move accepted\n",
      "1.1969621686803864 36.05059020312211 0.03953039099734463 1.7134557179014749 1.6852519923069853\n",
      "new move accepted\n",
      "1.0534214936725796 70.77928788790298 0.03265244614068933 1.1474591909903904 2.135786841290233\n",
      "new move accepted\n",
      "1.141351705013803 50.58678441603912 0.03754945060478664 1.0866439235667855 1.8353809559322405\n",
      "new move accepted\n",
      "1.94654459355646 58.50332452793883 0.061002596663738175 1.2515920167743826 1.3695398031143933\n",
      "new move accepted\n",
      "1.4778599557958547 85.7061999421307 0.04161652249153177 1.1661246600972397 1.3434556413284817\n",
      "new move accepted\n",
      "1.4505931740642075 36.001132512545546 0.04161863853625672 1.6805464172369573 2.1515699572924945\n",
      "new move accepted\n",
      "1.2118373834780487 32.38588374989671 0.03913250345970131 2.106966499588785 1.6109275459684784\n",
      "new move accepted\n",
      "4.498080495601718 72.15770827234257 0.15348511653058236 1.1697029096591471 1.4184873796119684\n",
      "new move accepted\n",
      "2.3301767264844755 32.43996841064385 0.1542959355344875 1.8407430538583296 1.2011723894638597\n",
      "new move accepted\n",
      "1.7823885883824104 30.53177047973967 0.049201585460059406 3.11616482937997 1.3286098112656148\n",
      "new move accepted\n",
      "1.0497461341565377 31.196010592274405 0.0288157375206896 2.241846552104697 2.4563447846224546\n",
      "new move accepted\n",
      "1.7670804579969306 30.662749777468566 0.05139941930730537 2.8426137034363843 1.1033949118407624\n",
      "new move accepted\n",
      "1.177567672597187 32.17684791448841 0.030489943803620124 1.8483561332707303 1.76071269537859\n",
      "new move accepted\n",
      "1.1746493582191513 42.996000532924754 0.035095159815052554 1.4478749239781648 1.5834506083266107\n",
      "new move accepted\n",
      "1.0341808275378352 30.373945676445278 0.030395863334348308 2.8511300160905373 2.4630322919623633\n",
      "new move accepted\n",
      "1.2365231463515045 34.1212930032573 0.04206869015516671 1.6200167611269312 0.9412651517812911\n",
      "0.5030087440489479\n",
      "new move accepted\n",
      "1.912337546391922 36.9473833735061 0.05423788703758803 1.56864933568655 1.228453745739511\n",
      "new move accepted\n",
      "1.0178441830913705 30.844707700033428 0.033001083451719836 2.262034830139491 2.141542977217997\n",
      "new move accepted\n",
      "1.6808163342926792 32.729892574056436 0.053735525584942954 1.866213554777887 1.3897970512109121\n",
      "new move accepted\n",
      "10.007685525214312 110.67585394783588 0.08065257343648553 1.1751254772398525 1.187781031437823\n",
      "new move accepted\n",
      "2.3611951191658034 41.24797388964505 0.05285650925399572 1.511709703412258 1.0398882055520817\n",
      "avg_energy -15.98739165167471\n",
      "Acceptance percentage 31.0\n"
     ]
    },
    {
     "data": {
      "image/png": "[encoded data removed]",
      "text/plain": [
       "<Figure size 432x288 with 1 Axes>"
      ]
     },
     "metadata": {
      "needs_background": "light"
     },
     "output_type": "display_data"
    }
   ],
   "source": [
    "import init\n",
    "import utility\n",
    "import visualize\n",
    "import random\n",
    "import numpy as np\n",
    "\n",
    "#parameters\n",
    "rho = 0.01\n",
    "Npart = 108\n",
    "box_length = (Npart / rho) ** (1/3)\n",
    "# print(box_length)\n",
    "bond_length = 2.353  #angstrom\n",
    "\n",
    "k = 30\n",
    "temp = 300 #kelvin\n",
    "beta = 1\n",
    "\n",
    "debug = True\n",
    "accepted_steps = 0\n",
    "\n",
    "positions = init.init_system(box_length, Npart)\n",
    "\n",
    "def check(positions):\n",
    "    for pos in positions:\n",
    "        if np.linalg.norm(pos[0] - pos[1]) > bond_length + 0.01:\n",
    "            return False\n",
    "    \n",
    "    return True\n",
    "\n",
    "def get_minimum_distance(positions, idx1, idx2):\n",
    "    min_len = 1000\n",
    "    for i in range(len(positions)):\n",
    "        if idx1 !=i:\n",
    "            for pos in positions[i]:\n",
    "                min_len = min(min_len, utility.pbc(np.linalg.norm(pos - positions[idx1][idx2]),box_length))\n",
    "    \n",
    "    return min_len\n",
    "\n",
    "def CBMC_step(positions, Npart):\n",
    "    #select a random_chain\n",
    "    global accepted_steps\n",
    "    idx = random.randint(0,Npart-1)\n",
    "    #find rosenbluth factor for previous configuration\n",
    "    prev_position = np.copy(positions[idx])\n",
    "    Wo1 = k * np.exp(-beta * utility.energy_of_particle(idx,0,positions,box_length))\n",
    "    Wo2 = np.exp(-beta * utility.energy_of_particle(idx,1,positions,box_length))\n",
    "    for i in range(k-1):\n",
    "        r = utility.generate_random_unit_vector() * bond_length\n",
    "        positions[idx][1] = positions[idx][0] + r\n",
    "        Wo2 += np.exp(-beta * utility.energy_of_particle(idx,1,positions,box_length))\n",
    "    # print(\"Wo2\" ,Wo2)\n",
    "    Wo = Wo1 * Wo2\n",
    "    #find rosenbluth factor for new configuration\n",
    "    #choose a random postion for first atom\n",
    "    positions[idx][0] = np.random.rand(3)* box_length\n",
    "    Wn1 =  k * np.exp(-beta * utility.energy_of_particle(idx,0,positions,box_length))\n",
    "    second_atom_pos = []\n",
    "    Wn2 = []\n",
    "    for i in range(k):\n",
    "        r = utility.generate_random_unit_vector()* bond_length\n",
    "        positions[idx][1] = positions[idx][0] + r\n",
    "        second_atom_pos.append(positions[idx][1])\n",
    "        Wn2.append(np.exp(-beta * utility.energy_of_particle(idx,1,positions,box_length)))\n",
    "        # if get_minimum_distance(positions,idx,1) <1 and np.exp(-beta * utility.energy_of_particle(idx,1,positions,box_length)) >1:\n",
    "            # print(Wn2[i],np.exp(-beta * utility.energy_of_particle(idx,1,positions,box_length)) )\n",
    "\n",
    "    Wn2_sum = sum(Wn2)\n",
    "    # print(Wn2_sum)\n",
    "    #select a configuration i with probaility Wn2[i]/Wn2_sum\n",
    "    cum_Wn2 = Wn2[0]\n",
    "    r_Wn2_sum = random.random()*Wn2_sum\n",
    "    i = 0\n",
    "    while cum_Wn2 < r_Wn2_sum:\n",
    "        i +=1\n",
    "        cum_Wn2 += Wn2[i]\n",
    "    # print(i, Wn2[i])\n",
    "    Wn = Wn1 * Wn2_sum\n",
    "    #replace position of second atom with selected second atom configuration \n",
    "    positions[idx][1] = second_atom_pos[i]\n",
    "    # print(Wo, \" \", Wn)\n",
    "    if Wn < Wo and random.random() > Wn/Wo:\n",
    "        #not accept\n",
    "        positions[idx] = prev_position   \n",
    "    else :\n",
    "        accepted_steps += 1\n",
    "        if debug:\n",
    "            print(\"new move accepted\")\n",
    "            print(Wn2[i], Wn1,Wn2[i]/Wn2_sum, get_minimum_distance(positions,idx,0),get_minimum_distance(positions,idx,1))\n",
    "            if get_minimum_distance(positions,idx,1) < 1:\n",
    "                print(np.exp(-1*utility.energy_of_particle(idx,1,positions,box_length)))\n",
    "                # print(Wn2)\n",
    "                \n",
    "                # return True\n",
    "    \n",
    "    return False\n",
    "\n",
    "total_energy_sum = 0\n",
    "\n",
    "for i in range(100):\n",
    "    # visualize.visualize(positions)\n",
    "    energy = utility.total_energy(positions,box_length)\n",
    "    # print(energy)\n",
    "    total_energy_sum += energy\n",
    "    if CBMC_step(positions,Npart) == True:\n",
    "        break\n",
    "\n",
    "\n",
    "print(f\"avg_energy {total_energy_sum / 100}\")\n",
    "print(f\"Acceptance percentage {accepted_steps/1}\")\n",
    "visualize.visualize(positions)\n"
   ]
  },
  {
   "cell_type": "code",
   "execution_count": 52,
   "metadata": {},
   "outputs": [
    {
     "data": {
      "text/plain": [
       "3"
      ]
     },
     "execution_count": 52,
     "metadata": {},
     "output_type": "execute_result"
    }
   ],
   "source": [
    "a = [5,3,2,1,4]\n",
    "b = sum(a)\n",
    "b\n",
    "a[1]"
   ]
  },
  {
   "cell_type": "code",
   "execution_count": 114,
   "metadata": {},
   "outputs": [],
   "source": [
    "\n",
    "global accepted_steps\n",
    "idx = random.randint(0,Npart-1)\n",
    "#find rosenbluth factor for previous configuration\n",
    "prev_position = np.copy(positions[idx])\n",
    "Wo1 = k * np.exp(-beta * utility.energy_of_particle(idx,0,positions,box_length))\n",
    "Wo2 = np.exp(-beta * utility.energy_of_particle(idx,1,positions,box_length))\n",
    "for i in range(k-1):\n",
    "    r = utility.generate_random_unit_vector() * bond_length\n",
    "    positions[idx][1] = positions[idx][0] + r\n",
    "    Wo2 += np.exp(-beta * utility.energy_of_particle(idx,1,positions,box_length))\n",
    "# print(\"Wo2\" ,Wo2)\n",
    "Wo = Wo1 * Wo2\n",
    "#find rosenbluth factor for new configuration\n",
    "#choose a random postion for first atom\n",
    "positions[idx][0] = np.random.rand(3)* box_length\n",
    "Wn1 =  k * np.exp(-beta * utility.energy_of_particle(idx,0,positions,box_length))\n",
    "second_atom_pos = []\n",
    "Wn2 = []\n",
    "for i in range(k):\n",
    "    r = utility.generate_random_unit_vector()* bond_length\n",
    "    positions[idx][1] = positions[idx][0] + r\n",
    "    second_atom_pos.append(positions[idx][1])\n",
    "    Wn2.append(np.exp(-beta * utility.energy_of_particle(idx,1,positions,box_length)))\n",
    "    # if get_minimum_distance(positions,idx,1) <1 and np.exp(-beta * utility.energy_of_particle(idx,1,positions,box_length)) >1:\n",
    "        # print(Wn2[i],np.exp(-beta * utility.energy_of_particle(idx,1,positions,box_length)) )\n",
    "\n",
    "Wn2_sum = sum(Wn2)\n",
    "# print(Wn2_sum)\n",
    "#select a configuration i with probaility Wn2[i]/Wn2_sum\n",
    "cum_Wn2 = Wn2[0]\n",
    "r_Wn2_sum = random.random()*Wn2_sum\n",
    "i = 0\n",
    "while cum_Wn2 < r_Wn2_sum:\n",
    "    i +=1\n",
    "    cum_Wn2 += Wn2[i]\n",
    "# print(i, Wn2[i])\n",
    "Wn = Wn1 * Wn2_sum\n",
    "#replace position of second atom with selected second atom configuration \n",
    "positions[idx][1] = second_atom_pos[i]\n",
    "# print(Wo, \" \", Wn)\n",
    "if Wn < Wo and random.random() > Wn/Wo:\n",
    "    #not accept\n",
    "    positions[idx] = prev_position   \n",
    "else :\n",
    "    accepted_steps += 1\n",
    "    if debug:\n",
    "        print(\"new move accepted\")\n",
    "        print(Wn2[i], Wn1,Wn2[i]/Wn2_sum, get_minimum_distance(positions,idx,0),get_minimum_distance(positions,idx,1))\n",
    "        if get_minimum_distance(positions,idx,1) < 1:\n",
    "            print(np.exp(-1*utility.energy_of_particle(idx,1,positions,box_length)))\n",
    "            # print(Wn2)\n",
    "            \n",
    "            # return True"
   ]
  },
  {
   "cell_type": "code",
   "execution_count": 117,
   "metadata": {},
   "outputs": [
    {
     "name": "stdout",
     "output_type": "stream",
     "text": [
      "[array([13, 11]), array([13, 11]), array([13, 11]), array([13, 11]), array([13, 11]), array([13, 11]), array([13, 11]), array([13, 11]), array([13, 11]), array([13, 11])]\n"
     ]
    }
   ],
   "source": [
    "a= np.array((3,1))\n",
    "c = []\n",
    "for i in range(10):\n",
    "    a +=1\n",
    "    c.append(a)\n",
    "print(c)"
   ]
  },
  {
   "cell_type": "code",
   "execution_count": null,
   "metadata": {},
   "outputs": [],
   "source": []
  },
  {
   "cell_type": "code",
   "execution_count": null,
   "metadata": {},
   "outputs": [],
   "source": []
  }
 ],
 "metadata": {
  "kernelspec": {
   "display_name": "Python 3",
   "language": "python",
   "name": "python3"
  },
  "language_info": {
   "codemirror_mode": {
    "name": "ipython",
    "version": 3
   },
   "file_extension": ".py",
   "mimetype": "text/x-python",
   "name": "python",
   "nbconvert_exporter": "python",
   "pygments_lexer": "ipython3",
   "version": "3.10.6"
  },
  "orig_nbformat": 4
 },
 "nbformat": 4,
 "nbformat_minor": 2
}
