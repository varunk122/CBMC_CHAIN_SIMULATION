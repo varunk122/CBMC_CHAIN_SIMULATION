{
 "cells": [
  {
   "cell_type": "code",
   "execution_count": null,
   "metadata": {},
   "outputs": [],
   "source": [
    "import utility\n",
    "\n",
    "utility.lj_potential(0.5,10)"
   ]
  },
  {
   "cell_type": "code",
   "execution_count": null,
   "metadata": {},
   "outputs": [],
   "source": [
    "utility.pbc(43,10)"
   ]
  },
  {
   "cell_type": "code",
   "execution_count": null,
   "metadata": {},
   "outputs": [],
   "source": [
    "import init\n",
    "#parameters\n",
    "rho = 0.01\n",
    "Npart = 108\n",
    "box_length = (Npart / rho) ** (1/3)\n",
    "# print(box_length)\n",
    "bond_length = 2.353  #angstrom\n",
    "\n",
    "k = 30\n",
    "temp = 300 #kelvin\n",
    "beta = 1\n",
    "\n",
    "debug = True\n",
    "accepted_steps = 0"
   ]
  },
  {
   "cell_type": "code",
   "execution_count": null,
   "metadata": {},
   "outputs": [],
   "source": [
    "positions = init.init_system(box_length, Npart)\n"
   ]
  },
  {
   "cell_type": "code",
   "execution_count": null,
   "metadata": {},
   "outputs": [],
   "source": [
    "positions\n",
    "import random\n",
    "import numpy as np\n"
   ]
  },
  {
   "cell_type": "code",
   "execution_count": null,
   "metadata": {},
   "outputs": [],
   "source": [
    "idx = random.randint(0,Npart-1)\n",
    "idx"
   ]
  },
  {
   "cell_type": "code",
   "execution_count": null,
   "metadata": {},
   "outputs": [],
   "source": [
    "prev_position = np.copy(positions[idx])\n",
    "prev_position"
   ]
  },
  {
   "cell_type": "code",
   "execution_count": null,
   "metadata": {},
   "outputs": [],
   "source": [
    "Wo1 = k * np.exp(-beta * utility.energy_of_particle(idx,0,positions,box_length))\n",
    "Wo1"
   ]
  },
  {
   "cell_type": "code",
   "execution_count": null,
   "metadata": {},
   "outputs": [],
   "source": [
    "Wo2 = np.exp(-beta * utility.energy_of_particle(idx,1,positions,box_length))\n",
    "for i in range(k-1):\n",
    "    r = utility.generate_random_unit_vector() * bond_length\n",
    "    positions[idx][1] = positions[idx][0] + r\n",
    "    Wo2 += np.exp(-beta * utility.energy_of_particle(idx,1,positions,box_length))\n",
    "    \n",
    "Wo = Wo1 * Wo2\n",
    "print(Wo)"
   ]
  },
  {
   "cell_type": "code",
   "execution_count": null,
   "metadata": {},
   "outputs": [],
   "source": [
    "positions[idx][0] = np.random.rand(3)* box_length\n",
    "positions[idx][0]"
   ]
  },
  {
   "cell_type": "code",
   "execution_count": null,
   "metadata": {},
   "outputs": [],
   "source": [
    "Wn1 =  k * np.exp(-beta * utility.energy_of_particle(idx,0,positions,box_length))\n",
    "Wn1"
   ]
  },
  {
   "cell_type": "code",
   "execution_count": null,
   "metadata": {},
   "outputs": [],
   "source": [
    "#select a random_chain\n",
    "    global accepted_steps\n",
    "    idx = random.randint(0,Npart-1)\n",
    "    #find rosenbluth factor for previous configuration\n",
    "    prev_position = np.copy(positions[idx])\n",
    "    Wo1 = k * np.exp(-beta * utility.energy_of_particle(idx,0,positions,box_length))\n",
    "    Wo2 = np.exp(-beta * utility.energy_of_particle(idx,1,positions,box_length))\n",
    "    for i in range(k-1):\n",
    "        r = utility.generate_random_unit_vector() * bond_length\n",
    "        positions[idx][1] = positions[idx][0] + r\n",
    "        Wo2 += np.exp(-beta * utility.energy_of_particle(idx,1,positions,box_length))\n",
    "    \n",
    "    Wo = Wo1 * Wo2\n",
    "    #find rosenbluth factor for new configuration\n",
    "    #choose a random postion for first atom\n",
    "    positions[idx][0] = np.random.rand(3)* box_length\n",
    "    Wn1 =  k * np.exp(-beta * utility.energy_of_particle(idx,0,positions,box_length))\n",
    "    second_atom_pos = []\n",
    "    Wn2 = []\n",
    "    for i in range(k):\n",
    "        r = utility.generate_random_unit_vector()* bond_length\n",
    "        positions[idx][1] = positions[idx][0] + r\n",
    "        second_atom_pos.append(positions[idx][1])\n",
    "        Wn2.append(np.exp(-beta * utility.energy_of_particle(idx,1,positions,box_length)))\n",
    "\n",
    "    Wn2_sum = sum(Wn2)\n",
    "\n",
    "    #select a configuration i with probaility Wn2[i]/Wn2_sum\n",
    "    cum_Wn2 = Wn2[0]\n",
    "    r_Wn2_sum = random.random()*Wn2_sum\n",
    "    i = 0\n",
    "    while cum_Wn2 < r_Wn2_sum:\n",
    "        i +=1\n",
    "        cum_Wn2 += Wn2[i]\n",
    "    print(i, Wn2[i])\n",
    "    Wn = Wn1 * Wn2_sum\n",
    "    #replace position of second atom with selected second atom configuration \n",
    "    positions[idx][1] = second_atom_pos[i]\n",
    "    print(Wo, \" \", Wn)\n",
    "    if Wn < Wo and random.random() > Wn/Wo:\n",
    "        #not accept\n",
    "        positions[idx] = prev_position   \n",
    "    else :\n",
    "        accepted_steps += 1\n",
    "        if debug:\n",
    "            print(\"new move accepted\")\n",
    "    \n",
    "    return \n"
   ]
  },
  {
   "cell_type": "code",
   "execution_count": null,
   "metadata": {},
   "outputs": [],
   "source": [
    "import init\n",
    "import utility\n",
    "import visualize\n",
    "import random\n",
    "import numpy as np\n",
    "\n",
    "#parameters\n",
    "rho = 0.01\n",
    "Npart = 108\n",
    "box_length = (Npart / rho) ** (1/3)\n",
    "# print(box_length)\n",
    "bond_length = 2.353  #angstrom\n",
    "\n",
    "k = 30\n",
    "temp = 300 #kelvin\n",
    "beta = 1\n",
    "\n",
    "debug = True\n",
    "accepted_steps = 0\n",
    "\n",
    "positions = init.init_system(box_length, Npart)\n",
    "\n",
    "def check(positions):\n",
    "    for pos in positions:\n",
    "        if np.linalg.norm(pos[0] - pos[1]) > bond_length + 0.01:\n",
    "            return False\n",
    "    \n",
    "    return True\n",
    "\n",
    "def get_minimum_distance(positions, idx1, idx2):\n",
    "    min_len = 1000\n",
    "    for i in range(len(positions)):\n",
    "        if idx1 !=i:\n",
    "            for pos in positions[i]:\n",
    "                min_len = min(min_len, utility.pbc(np.linalg.norm(pos - positions[idx1][idx2]),box_length))\n",
    "    \n",
    "    return min_len\n",
    "\n",
    "def CBMC_step(positions, Npart):\n",
    "    #select a random_chain\n",
    "    global accepted_steps\n",
    "    idx = random.randint(0,Npart-1)\n",
    "    #find rosenbluth factor for previous configuration\n",
    "    prev_position = np.copy(positions[idx])\n",
    "    Wo1 = k * np.exp(-beta * utility.energy_of_particle(idx,0,positions,box_length))\n",
    "    Wo2 = np.exp(-beta * utility.energy_of_particle(idx,1,positions,box_length))\n",
    "    for i in range(k-1):\n",
    "        r = utility.generate_random_unit_vector() * bond_length\n",
    "        positions[idx][1] = positions[idx][0] + r\n",
    "        Wo2 += np.exp(-beta * utility.energy_of_particle(idx,1,positions,box_length))\n",
    "    # print(\"Wo2\" ,Wo2)\n",
    "    Wo = Wo1 * Wo2\n",
    "    #find rosenbluth factor for new configuration\n",
    "    #choose a random postion for first atom\n",
    "    positions[idx][0] = np.random.rand(3)* box_length\n",
    "    Wn1 =  k * np.exp(-beta * utility.energy_of_particle(idx,0,positions,box_length))\n",
    "    second_atom_pos = []\n",
    "    Wn2 = []\n",
    "    for i in range(k):\n",
    "        r = utility.generate_random_unit_vector()* bond_length\n",
    "        positions[idx][1] = positions[idx][0] + r\n",
    "        second_atom_pos.append(positions[idx][1])\n",
    "        Wn2.append(np.exp(-beta * utility.energy_of_particle(idx,1,positions,box_length)))\n",
    "        # if get_minimum_distance(positions,idx,1) <1 and np.exp(-beta * utility.energy_of_particle(idx,1,positions,box_length)) >1:\n",
    "            # print(Wn2[i],np.exp(-beta * utility.energy_of_particle(idx,1,positions,box_length)) )\n",
    "\n",
    "    Wn2_sum = sum(Wn2)\n",
    "    # print(Wn2_sum)\n",
    "    #select a configuration i with probaility Wn2[i]/Wn2_sum\n",
    "    cum_Wn2 = Wn2[0]\n",
    "    r_Wn2_sum = random.random()*Wn2_sum\n",
    "    i = 0\n",
    "    while cum_Wn2 < r_Wn2_sum:\n",
    "        i +=1\n",
    "        cum_Wn2 += Wn2[i]\n",
    "    # print(i, Wn2[i])\n",
    "    Wn = Wn1 * Wn2_sum\n",
    "    #replace position of second atom with selected second atom configuration \n",
    "    positions[idx][1] = second_atom_pos[i]\n",
    "    # print(Wo, \" \", Wn)\n",
    "    if Wn < Wo and random.random() > Wn/Wo:\n",
    "        #not accept\n",
    "        positions[idx] = prev_position   \n",
    "    else :\n",
    "        accepted_steps += 1\n",
    "        if debug:\n",
    "            print(\"new move accepted\")\n",
    "            print(Wn2[i], Wn1,Wn2[i]/Wn2_sum, get_minimum_distance(positions,idx,0),get_minimum_distance(positions,idx,1))\n",
    "            if get_minimum_distance(positions,idx,1) < 1:\n",
    "                print(np.exp(-1*utility.energy_of_particle(idx,1,positions,box_length)))\n",
    "                # print(Wn2)\n",
    "                \n",
    "                # return True\n",
    "    \n",
    "    return False\n",
    "\n",
    "total_energy_sum = 0\n",
    "\n",
    "for i in range(100):\n",
    "    # visualize.visualize(positions)\n",
    "    energy = utility.total_energy(positions,box_length)\n",
    "    # print(energy)\n",
    "    total_energy_sum += energy\n",
    "    if CBMC_step(positions,Npart) == True:\n",
    "        break\n",
    "\n",
    "\n",
    "print(f\"avg_energy {total_energy_sum / 100}\")\n",
    "print(f\"Acceptance percentage {accepted_steps/1}\")\n",
    "visualize.visualize(positions)\n"
   ]
  },
  {
   "cell_type": "code",
   "execution_count": null,
   "metadata": {},
   "outputs": [],
   "source": [
    "a = [5,3,2,1,4]\n",
    "b = sum(a)\n",
    "b\n",
    "a[1]"
   ]
  },
  {
   "cell_type": "code",
   "execution_count": null,
   "metadata": {},
   "outputs": [],
   "source": [
    "\n",
    "global accepted_steps\n",
    "idx = random.randint(0,Npart-1)\n",
    "#find rosenbluth factor for previous configuration\n",
    "prev_position = np.copy(positions[idx])\n",
    "Wo1 = k * np.exp(-beta * utility.energy_of_particle(idx,0,positions,box_length))\n",
    "Wo2 = np.exp(-beta * utility.energy_of_particle(idx,1,positions,box_length))\n",
    "for i in range(k-1):\n",
    "    r = utility.generate_random_unit_vector() * bond_length\n",
    "    positions[idx][1] = positions[idx][0] + r\n",
    "    Wo2 += np.exp(-beta * utility.energy_of_particle(idx,1,positions,box_length))\n",
    "# print(\"Wo2\" ,Wo2)\n",
    "Wo = Wo1 * Wo2\n",
    "#find rosenbluth factor for new configuration\n",
    "#choose a random postion for first atom\n",
    "positions[idx][0] = np.random.rand(3)* box_length\n",
    "Wn1 =  k * np.exp(-beta * utility.energy_of_particle(idx,0,positions,box_length))\n",
    "second_atom_pos = []\n",
    "Wn2 = []\n",
    "for i in range(k):\n",
    "    r = utility.generate_random_unit_vector()* bond_length\n",
    "    positions[idx][1] = positions[idx][0] + r\n",
    "    second_atom_pos.append(positions[idx][1])\n",
    "    Wn2.append(np.exp(-beta * utility.energy_of_particle(idx,1,positions,box_length)))\n",
    "    # if get_minimum_distance(positions,idx,1) <1 and np.exp(-beta * utility.energy_of_particle(idx,1,positions,box_length)) >1:\n",
    "        # print(Wn2[i],np.exp(-beta * utility.energy_of_particle(idx,1,positions,box_length)) )\n",
    "\n",
    "Wn2_sum = sum(Wn2)\n",
    "# print(Wn2_sum)\n",
    "#select a configuration i with probaility Wn2[i]/Wn2_sum\n",
    "cum_Wn2 = Wn2[0]\n",
    "r_Wn2_sum = random.random()*Wn2_sum\n",
    "i = 0\n",
    "while cum_Wn2 < r_Wn2_sum:\n",
    "    i +=1\n",
    "    cum_Wn2 += Wn2[i]\n",
    "# print(i, Wn2[i])\n",
    "Wn = Wn1 * Wn2_sum\n",
    "#replace position of second atom with selected second atom configuration \n",
    "positions[idx][1] = second_atom_pos[i]\n",
    "# print(Wo, \" \", Wn)\n",
    "if Wn < Wo and random.random() > Wn/Wo:\n",
    "    #not accept\n",
    "    positions[idx] = prev_position   \n",
    "else :\n",
    "    accepted_steps += 1\n",
    "    if debug:\n",
    "        print(\"new move accepted\")\n",
    "        print(Wn2[i], Wn1,Wn2[i]/Wn2_sum, get_minimum_distance(positions,idx,0),get_minimum_distance(positions,idx,1))\n",
    "        if get_minimum_distance(positions,idx,1) < 1:\n",
    "            print(np.exp(-1*utility.energy_of_particle(idx,1,positions,box_length)))\n",
    "            # print(Wn2)\n",
    "            \n",
    "            # return True"
   ]
  },
  {
   "cell_type": "code",
   "execution_count": null,
   "metadata": {},
   "outputs": [],
   "source": [
    "a= np.array((3,1))\n",
    "c = []\n",
    "for i in range(10):\n",
    "    a +=1\n",
    "    c.append(a)\n",
    "print(c)"
   ]
  },
  {
   "cell_type": "code",
   "execution_count": null,
   "metadata": {},
   "outputs": [],
   "source": [
    "import visualize\n",
    "\n",
    "visualize.plot_energy_from_file(\"energy.txt\")"
   ]
  },
  {
   "cell_type": "code",
   "execution_count": null,
   "metadata": {},
   "outputs": [],
   "source": [
    "import matplotlib.pyplot as plt\n",
    "with open(\"energy.txt\",'r') as f:\n",
    "    energy = [float(line.strip()) for line in f]\n",
    "    steps = [ int(100 * i) for i in range(len(energy))]\n",
    "    plt.plot(steps, energy)\n",
    "    plt.ylabel(\"Energy (KbT)\")\n",
    "    plt.xlabel(\"Number of steps\")\n",
    "    plt.grid()\n",
    "    plt.show()"
   ]
  },
  {
   "cell_type": "code",
   "execution_count": null,
   "metadata": {},
   "outputs": [],
   "source": [
    "np_positions = np.load('positions.npy', allow_pickle=True)\n"
   ]
  },
  {
   "cell_type": "code",
   "execution_count": null,
   "metadata": {},
   "outputs": [],
   "source": [
    "positions = []\n",
    "for mol_pos in np_positions:\n",
    "    positions.append([mol_pos[0],mol_pos[1]])"
   ]
  },
  {
   "cell_type": "code",
   "execution_count": null,
   "metadata": {},
   "outputs": [],
   "source": [
    "utility.total_energy(positions,box_length)"
   ]
  },
  {
   "cell_type": "code",
   "execution_count": null,
   "metadata": {},
   "outputs": [],
   "source": [
    "import init\n",
    "from config import *\n",
    "import utility\n",
    "positions = init.init_system(box_length,Npart)"
   ]
  },
  {
   "cell_type": "markdown",
   "metadata": {},
   "source": []
  },
  {
   "cell_type": "code",
   "execution_count": null,
   "metadata": {},
   "outputs": [],
   "source": [
    "len(positions)"
   ]
  },
  {
   "cell_type": "code",
   "execution_count": null,
   "metadata": {},
   "outputs": [],
   "source": [
    "import visualize, utility\n",
    "visualize.visualize(positions)\n",
    "utility.total_energy(positions,box_length)"
   ]
  },
  {
   "cell_type": "code",
   "execution_count": null,
   "metadata": {},
   "outputs": [],
   "source": [
    "from ethane_cbmc import *\n",
    "# from tempfile import TemporaryFile\n",
    "# position_file = TemporaryFile()\n",
    "\n",
    "# positions = init.init_system(box_length, Npart)\n",
    "# positions = utility.read_positions_from_file(\"positions.npy\")\n",
    "\n",
    "# energy_file = open(\"energy.txt\",'a' )\n",
    "\n",
    "for i in range(nsteps):\n",
    "    # visualize.visualize(positions)\n",
    "    energy = utility.total_energy(positions,box_length)\n",
    "    print(f\"Energy of the system at step {i} is: {energy}\")\n",
    "    # if i%write_interval == 0:\n",
    "        # energy_file.write(str(energy)+\"\\n\")\n",
    "    positions = CBMC_step(positions,Npart)\n",
    "\n",
    "# np.save('positions.npy', np.array(positions, dtype=object), allow_pickle=True)\n"
   ]
  },
  {
   "cell_type": "code",
   "execution_count": null,
   "metadata": {},
   "outputs": [],
   "source": [
    "positions_list = [init.init_system(box_length,Npart),init.init_system(box_length,Npart)]"
   ]
  },
  {
   "cell_type": "code",
   "execution_count": null,
   "metadata": {},
   "outputs": [],
   "source": []
  },
  {
   "cell_type": "code",
   "execution_count": null,
   "metadata": {},
   "outputs": [],
   "source": [
    "import numpy as np\n",
    "import matplotlib.pyplot as plt\n",
    "from matplotlib.animation import FuncAnimation, PillowWriter\n",
    "\n",
    "def animate(i):\n",
    "    # fig = plt.figure()\n",
    "    ax.cla()\n",
    "    positions = positions_list[i]\n",
    "    for pos in positions:\n",
    "        ax.plot([pos[0][0],pos[1][0]],[pos[0][1],pos[1][1]],\n",
    "        [pos[0][2],pos[1][2]], 'g')\n",
    "        ax.scatter3D([pos[0][0]],[pos[0][1]], [pos[0][2]], color = 'red')\n",
    "        ax.scatter3D([pos[1][0]],[pos[1][1]], [pos[1][2]], color = 'blue')\n",
    "    \n",
    "\n",
    "num_plots = (len(positions_list))\n",
    "fig = plt.figure(figsize=(20,20))\n",
    "ax = plt.axes(projection='3d')\n",
    "ani = FuncAnimation(fig, animate, frames=num_plots, interval=200)\n",
    "\n",
    "writer = PillowWriter(fps=1)\n",
    "ani.save('plots.gif', writer=writer)\n"
   ]
  },
  {
   "cell_type": "code",
   "execution_count": null,
   "metadata": {},
   "outputs": [],
   "source": [
    "import init\n",
    "import visualize\n",
    "import utility\n",
    "import numpy as np\n",
    "with open('nvt.gro','r') as f:\n",
    "    lines = [line for line in f]\n",
    "    positions = []\n",
    "    for i in range(Npart):\n",
    "        l1 = lines[2*i+2].split()\n",
    "        l2 = lines[2*i+3].split()\n",
    "        mol_pos_1 = np.array([l1[3],l1[4],l1[5]]).astype(float)\n",
    "        mol_pos_2 = np.array([l2[3],l2[4],l2[5]]).astype(float)\n",
    "        positions.append([mol_pos_1,mol_pos_2])\n",
    "\n",
    "positions"
   ]
  },
  {
   "cell_type": "code",
   "execution_count": null,
   "metadata": {},
   "outputs": [],
   "source": [
    "lines"
   ]
  },
  {
   "cell_type": "code",
   "execution_count": null,
   "metadata": {},
   "outputs": [],
   "source": [
    "from config import *\n",
    "visualize.visualize(positions)"
   ]
  },
  {
   "cell_type": "code",
   "execution_count": null,
   "metadata": {},
   "outputs": [],
   "source": [
    "utility.total_energy(positions,2.2)"
   ]
  },
  {
   "cell_type": "code",
   "execution_count": null,
   "metadata": {},
   "outputs": [],
   "source": [
    "import init\n",
    "import visualize\n",
    "import utility\n",
    "import numpy as np\n",
    "positions = utility.read_positions_from_gromacs_file('nvt.gro')"
   ]
  },
  {
   "cell_type": "code",
   "execution_count": null,
   "metadata": {},
   "outputs": [],
   "source": [
    "positions"
   ]
  },
  {
   "cell_type": "code",
   "execution_count": null,
   "metadata": {},
   "outputs": [],
   "source": [
    "dx, dy, dz = positions[0][0] - positions[0][1]"
   ]
  },
  {
   "cell_type": "code",
   "execution_count": null,
   "metadata": {},
   "outputs": [],
   "source": [
    "dx"
   ]
  },
  {
   "cell_type": "code",
   "execution_count": null,
   "metadata": {},
   "outputs": [],
   "source": [
    "positions[0][0]"
   ]
  },
  {
   "cell_type": "code",
   "execution_count": null,
   "metadata": {},
   "outputs": [],
   "source": [
    "positions[0][1]"
   ]
  },
  {
   "cell_type": "code",
   "execution_count": null,
   "metadata": {},
   "outputs": [],
   "source": [
    "from config import *\n",
    "utility.total_energy(positions,box_length)"
   ]
  },
  {
   "cell_type": "code",
   "execution_count": null,
   "metadata": {},
   "outputs": [],
   "source": [
    "import init\n",
    "from utility import generate_random_unit_vector\n",
    "import numpy as np\n",
    "from config import *\n",
    "import random\n",
    "import utility\n"
   ]
  },
  {
   "cell_type": "code",
   "execution_count": null,
   "metadata": {},
   "outputs": [],
   "source": [
    "positions = init.init_system(box_length,108)"
   ]
  },
  {
   "cell_type": "code",
   "execution_count": null,
   "metadata": {},
   "outputs": [],
   "source": [
    "import visualize\n",
    "visualize.visualize_propane(positions)"
   ]
  },
  {
   "cell_type": "code",
   "execution_count": null,
   "metadata": {},
   "outputs": [],
   "source": [
    "len(positions)"
   ]
  },
  {
   "cell_type": "code",
   "execution_count": null,
   "metadata": {},
   "outputs": [],
   "source": [
    "for mol_pos in positions:\n",
    "    r1 = mol_pos[2] - mol_pos[1]\n",
    "    r2 = mol_pos[0] - mol_pos[1]\n",
    "    r1 = utility.convert_to_unit_vector(r1)\n",
    "    r2 = utility.convert_to_unit_vector(r2)\n",
    "    print(np.arccos(np.dot(r1,r2)))"
   ]
  },
  {
   "cell_type": "code",
   "execution_count": null,
   "metadata": {},
   "outputs": [],
   "source": [
    "# r1,r2 = init.generate_random_molecule(1.5)\n",
    "r1 = np.array([0,0,0])\n",
    "r2 = np.array([1.5,0,0])"
   ]
  },
  {
   "cell_type": "code",
   "execution_count": null,
   "metadata": {},
   "outputs": [],
   "source": [
    "np.pi"
   ]
  },
  {
   "cell_type": "code",
   "execution_count": null,
   "metadata": {},
   "outputs": [],
   "source": [
    "mol_pos = [r1,r2]"
   ]
  },
  {
   "cell_type": "code",
   "execution_count": null,
   "metadata": {},
   "outputs": [],
   "source": [
    "def add_bond(mol_pos, beta = 1):\n",
    "    r = mol_pos[-2] - mol_pos[-1]\n",
    "    r = r / np.linalg.norm(r)\n",
    "    print(r)\n",
    "    flag = False\n",
    "    while flag == False:\n",
    "        r_new = generate_random_unit_vector()\n",
    "        theta = np.arccos(np.dot(r,r_new))\n",
    "        \n",
    "        energy = 0.5*k_prop*(theta- theta_mean)**2\n",
    "        if theta > 1.5:\n",
    "            print(theta)\n",
    "            print(\"energy\" ,energy)\n",
    "        \n",
    "        if random.random() < np.exp(-beta*energy):\n",
    "            r_new  = r_new *  bond_length + mol_pos[-1]\n",
    "            flag = True\n",
    "            return r_new\n",
    "    \n"
   ]
  },
  {
   "cell_type": "code",
   "execution_count": null,
   "metadata": {},
   "outputs": [],
   "source": [
    "r3 = add_bond(mol_pos)"
   ]
  },
  {
   "cell_type": "code",
   "execution_count": null,
   "metadata": {},
   "outputs": [],
   "source": [
    "mol_pos.append(r3)\n"
   ]
  },
  {
   "cell_type": "code",
   "execution_count": null,
   "metadata": {},
   "outputs": [],
   "source": [
    "mol_pos"
   ]
  },
  {
   "cell_type": "code",
   "execution_count": null,
   "metadata": {},
   "outputs": [],
   "source": [
    "positions = [mol_pos]\n",
    "import visualize\n",
    "visualize.visualize_propane(positions)"
   ]
  },
  {
   "cell_type": "code",
   "execution_count": null,
   "metadata": {},
   "outputs": [],
   "source": []
  },
  {
   "cell_type": "code",
   "execution_count": null,
   "metadata": {},
   "outputs": [],
   "source": [
    "from utility import *\n",
    "def add_bond_optimal(mol_pos, beta = 1):\n",
    "    z = mol_pos[-2] - mol_pos[-1]\n",
    "    y = np.array([0,1,0]) \n",
    "    if z[1] != 0:\n",
    "        y = np.array([1,-(z[0]+z[2])/z[1],1])\n",
    "\n",
    "    x = np.cross(y,z)\n",
    "\n",
    "    #convert to unit vectors\n",
    "    z = convert_to_unit_vector(z)\n",
    "    y = convert_to_unit_vector(y)\n",
    "    x = convert_to_unit_vector(x)\n",
    "\n",
    "    #adding bond in spherical coordintate system for ease \n",
    "\n",
    "    r = bond_length\n",
    "    theta = theta_mean\n",
    "    phi = random.random() * (6.28)\n",
    "    print(theta_mean)\n",
    "    #converting this back to cartesian coordintates\n",
    "\n",
    "    return mol_pos[-1] + (r*np.sin(theta)*np.cos(phi))*x + (r*np.sin(theta)*np.sin(phi))*y + (r*np.cos(theta))*z\n",
    "\n"
   ]
  },
  {
   "cell_type": "code",
   "execution_count": null,
   "metadata": {},
   "outputs": [],
   "source": [
    "r1 = np.array([0,0,0])\n",
    "r2 = np.array([1,0,0])\n",
    "\n",
    "mol_pos = [r1,r2]"
   ]
  },
  {
   "cell_type": "code",
   "execution_count": null,
   "metadata": {},
   "outputs": [],
   "source": [
    "r3 = add_bond_optimal(mol_pos)\n"
   ]
  },
  {
   "cell_type": "code",
   "execution_count": null,
   "metadata": {},
   "outputs": [],
   "source": [
    "print(np.arccos(np.dot(convert_to_unit_vector(r3-r2),convert_to_unit_vector(r1-r2))))"
   ]
  },
  {
   "cell_type": "code",
   "execution_count": null,
   "metadata": {},
   "outputs": [],
   "source": [
    "r3"
   ]
  },
  {
   "cell_type": "code",
   "execution_count": null,
   "metadata": {},
   "outputs": [],
   "source": [
    "np.dot(r3-r2,r1-r2)"
   ]
  },
  {
   "cell_type": "code",
   "execution_count": null,
   "metadata": {},
   "outputs": [],
   "source": [
    "import utility\n",
    "positions = utility.read_positions_from_file(\"../project_runs/run10/8700/positions.npy\")"
   ]
  },
  {
   "cell_type": "code",
   "execution_count": null,
   "metadata": {},
   "outputs": [],
   "source": [
    "positions"
   ]
  },
  {
   "cell_type": "code",
   "execution_count": null,
   "metadata": {},
   "outputs": [],
   "source": [
    "import visualize\n",
    "visualize.visualize_propane(positions)"
   ]
  },
  {
   "cell_type": "code",
   "execution_count": null,
   "metadata": {},
   "outputs": [],
   "source": [
    "from config import *\n",
    "utility.total_energy(positions,box_length)"
   ]
  },
  {
   "cell_type": "code",
   "execution_count": null,
   "metadata": {},
   "outputs": [],
   "source": [
    "import numpy as np\n",
    "energy = np.zeros(Npart)\n",
    "for i in range(len(positions)):\n",
    "    for j in range(i+1,len(positions)):\n",
    "        e = utility.find_potential_between_alkanes(positions[i],positions[j],box_length)\n",
    "        energy[i] += e\n",
    "        energy[j] +=e\n",
    "\n"
   ]
  },
  {
   "cell_type": "code",
   "execution_count": null,
   "metadata": {},
   "outputs": [],
   "source": [
    "utility.energy_of_particle(77,0,positions,box_length)"
   ]
  },
  {
   "cell_type": "code",
   "execution_count": 5,
   "metadata": {},
   "outputs": [],
   "source": [
    "import init\n",
    "import utility\n",
    "import visualize\n",
    "import numpy as np\n",
    "import random\n",
    "\n",
    "#parameters\n",
    "\n",
    "from config import *\n",
    "\n",
    "def MC_step(positions, Npart):\n",
    "    \n",
    "    idx = random.randint(0,Npart-1)\n",
    "    Uo = utility.energy_of_a_chain(idx, positions, box_length)\n",
    "    prev_position = np.copy(positions[idx])\n",
    "    positions[idx] = init.generate_random_molecule(bond_length)\n",
    "    Un = utility.energy_of_a_chain(idx,positions,bond_length)\n",
    "    print(Un, Uo)\n",
    "    if random.random() < np.exp(-beta *(Un-Uo)):\n",
    "        print(f\"New state accepted\")\n",
    "        print(f\"{positions[idx] - prev_position}\")\n",
    "        return positions, Un-Uo\n",
    "    else :\n",
    "        positions[idx] = prev_position\n",
    "        print(f\"Old state accepted\")\n",
    "        return positions, 0\n",
    "\n",
    "    \n",
    "\n",
    "\n"
   ]
  },
  {
   "cell_type": "code",
   "execution_count": 6,
   "metadata": {},
   "outputs": [
    {
     "data": {
      "text/plain": [
       "[[array([15.07663709, 19.78545882, 18.79954341]),\n",
       "  array([15.75577911, 20.78103851, 19.69262079])],\n",
       " [array([19.2311088 , 10.41833604, 21.05275919]),\n",
       "  array([20.15026197, 11.31057737, 21.833184  ])],\n",
       " [array([20.46353547,  7.38499641,  6.50339564]),\n",
       "  array([21.77729858,  7.94924722,  6.95687939])],\n",
       " [array([ 8.9575198 , 10.70735628,  9.61274781]),\n",
       "  array([ 9.20081832, 11.50835042, 10.85742215])],\n",
       " [array([13.31174971, 19.90286608,  1.63378849]),\n",
       "  array([13.83065399, 21.15013683,  2.28575016])],\n",
       " [array([ 5.71376767, 13.1532079 , 10.57893611]),\n",
       "  array([ 6.04290018, 13.42199513, 12.0174858 ])],\n",
       " [array([19.18323003, 13.29569772,  3.89534005]),\n",
       "  array([19.61922173, 13.97972306,  5.15709302])],\n",
       " [array([ 9.05215234,  5.97914121, 19.57720694]),\n",
       "  array([ 9.33313146,  7.14396277, 20.47956024])],\n",
       " [array([20.18093949,  1.12231557,  8.51461977]),\n",
       "  array([20.46222155,  2.0191735 ,  9.68360491])],\n",
       " [array([17.07192188,  1.4164454 , 10.20831132]),\n",
       "  array([17.12193202,  1.4397742 , 11.7072959 ])],\n",
       " [array([ 7.65433324, 15.90553938,  1.1655634 ]),\n",
       "  array([ 8.37896902, 17.06019579,  1.79140009])],\n",
       " [array([16.90304566, 20.86446596, 17.09774815]),\n",
       "  array([17.3968515 , 21.69281705, 18.24665644])],\n",
       " [array([12.8955733 , 15.45394698,  1.43524701]),\n",
       "  array([13.19355995, 15.76599691,  2.87185022])],\n",
       " [array([20.71310506,  8.99063852, 14.85597008]),\n",
       "  array([21.27122573,  9.78586664, 15.99882333])],\n",
       " [array([8.66846573, 5.15155883, 7.59310471]),\n",
       "  array([9.16466228, 6.07367326, 8.66711307])],\n",
       " [array([18.2305105 ,  9.54558494,  3.0108547 ]),\n",
       "  array([18.68159949, 10.79297196,  3.71124342])],\n",
       " [array([ 4.96142126, 11.91232316, 17.93299786]),\n",
       "  array([ 6.41471581, 12.16995901, 18.2005025 ])],\n",
       " [array([ 2.8713251 ,  0.60642593, 12.53825808]),\n",
       "  array([ 3.66960319,  1.63022333, 13.28965077])],\n",
       " [array([11.63194364,  5.06322153, 16.26203877]),\n",
       "  array([12.46315267,  5.39300636, 17.4663367 ])],\n",
       " [array([12.21664322, 18.2842793 ,  6.43473372]),\n",
       "  array([13.41358372, 19.17565739,  6.5856593 ])],\n",
       " [array([17.54657099, 16.38822217, 10.49769029]),\n",
       "  array([18.67237064, 16.98851769, 11.28649979])],\n",
       " [array([14.15699469,  7.33812202, 18.82746008]),\n",
       "  array([15.06546532,  8.531715  , 18.83157309])],\n",
       " [array([17.29603333, 12.21088554, 19.04215104]),\n",
       "  array([18.16006165, 13.42313398, 19.22629443])],\n",
       " [array([14.02363788, 10.22899584, 21.46315449]),\n",
       "  array([14.81003062, 11.10229941, 22.39531721])],\n",
       " [array([ 6.42241048,  5.39553138, 20.07624824]),\n",
       "  array([ 7.38310499,  5.69138968, 21.18959182])],\n",
       " [array([ 7.40559518, 19.82464746, 21.17908995]),\n",
       "  array([ 8.45720814, 20.08141292, 22.21744522])],\n",
       " [array([ 3.18531693,  7.12035811, 21.44243032]),\n",
       "  array([ 4.22421991,  7.40065914, 22.48747191])],\n",
       " [array([17.62024028,  5.48993669, 13.90374525]),\n",
       "  array([18.56360395,  6.47726786, 14.52442402])],\n",
       " [array([14.55686032,  3.81230437, 12.07139538]),\n",
       "  array([15.17399668,  4.50358151, 13.25092013])],\n",
       " [array([ 8.86485322, 14.57692513, 10.91060408]),\n",
       "  array([ 8.97231838, 15.99783174, 11.37908636])],\n",
       " [array([20.58908772, 15.08380396,  1.3395362 ]),\n",
       "  array([21.04078589, 16.45345857,  1.75186496])],\n",
       " [array([ 4.86307003, 19.94099051,  3.28503694]),\n",
       "  array([ 5.83614407, 20.30168697,  4.36809972])],\n",
       " [array([18.55595766, 12.44288908,  8.19704313]),\n",
       "  array([19.55075339, 13.507885  ,  8.55224045])],\n",
       " [array([12.18936251,  9.83020469, 11.02080525]),\n",
       "  array([13.55685858, 10.19099738, 11.52058834])],\n",
       " [array([ 3.88280112, 20.34347925, 21.28002252]),\n",
       "  array([ 4.35994809, 20.6379102 , 22.67129574])],\n",
       " [array([4.77541697, 9.40292749, 4.52398254]),\n",
       "  array([ 5.48058074, 10.22757767,  5.55969298])],\n",
       " [array([16.27727674, 20.9560077 , 10.15204897]),\n",
       "  array([17.52999898, 21.57818443, 10.69388207])],\n",
       " [array([ 9.93620146, 16.74982759, 20.53958153]),\n",
       "  array([10.49187504, 17.68861397, 21.56909938])],\n",
       " [array([1.75959034, 6.88429755, 7.71060197]),\n",
       "  array([3.01981493, 6.9974682 , 8.51622371])],\n",
       " [array([ 0.76084337, 17.13103203, 20.91302253]),\n",
       "  array([ 1.19733829, 17.43909535, 22.31465343])],\n",
       " [array([14.07999898, 13.41630025,  8.49994713]),\n",
       "  array([14.68031112, 14.42271737,  9.43629637])],\n",
       " [array([ 9.14832361,  3.03288418, 13.58671959]),\n",
       "  array([ 9.56665225,  4.01501044, 14.64048862])],\n",
       " [array([11.04727371,  6.54088052, 19.30853356]),\n",
       "  array([12.13940378,  7.56763836, 19.36349037])],\n",
       " [array([ 8.60365477, 19.71054662, 10.44890585]),\n",
       "  array([ 8.97566287, 19.75802493, 11.90126799])],\n",
       " [array([11.49228394,  4.39698293,  1.68348017]),\n",
       "  array([12.03892509,  4.90186086,  2.98589397])],\n",
       " [array([ 8.73244197,  8.12944867, 17.07770936]),\n",
       "  array([ 9.65326164,  8.90853754, 17.9693997 ])],\n",
       " [array([2.3358126 , 9.44984752, 3.04601801]),\n",
       "  array([ 3.0099262 , 10.5753796 ,  3.77316889])],\n",
       " [array([8.64261364, 3.42776714, 3.27335656]),\n",
       "  array([9.10126299, 4.46295191, 4.25724338])],\n",
       " [array([ 6.81102619,  5.60036518, 10.46637428]),\n",
       "  array([ 7.96386681,  6.53849359, 10.66854645])],\n",
       " [array([13.24890507, 21.21027027, 10.53110416]),\n",
       "  array([14.05916805, 21.5945876 , 11.73350762])],\n",
       " [array([ 8.57430398, 13.45636069,  4.2920659 ]),\n",
       "  array([ 9.09165063, 14.81118224,  4.67522513])],\n",
       " [array([10.45809977, 12.16239334, 19.79286627]),\n",
       "  array([11.57262958, 12.39363002, 20.76977614])],\n",
       " [array([20.06204547,  1.23599407, 15.10603947]),\n",
       "  array([20.29257538,  2.21269898, 16.22089528])],\n",
       " [array([ 6.66793515, 16.76261022, 19.50218556]),\n",
       "  array([ 7.83937717, 16.89550359, 20.42958136])],\n",
       " [array([0.73949987, 0.58885177, 1.38563668]),\n",
       "  array([0.79455374, 1.447505  , 2.61432854])],\n",
       " [array([18.6746072 ,  8.54104869, 17.47569159]),\n",
       "  array([19.62209198,  8.88736503, 18.58579861])],\n",
       " [array([16.69758178,  7.00690123,  6.00190988]),\n",
       "  array([17.48649598,  8.0804747 ,  6.69115178])],\n",
       " [array([ 0.20888064, 11.27924037,  4.429166  ]),\n",
       "  array([ 0.99302835, 12.43662219,  4.97283842])],\n",
       " [array([ 9.04096107, 19.28539662,  4.15070724]),\n",
       "  array([ 9.99482607, 19.70253241,  5.23058654])],\n",
       " [array([12.21798452,  2.9480264 , 10.25736813]),\n",
       "  array([12.64053762,  4.30338446, 10.74157202])],\n",
       " [array([19.63358386, 15.85645415,  6.59599153]),\n",
       "  array([20.2186277 , 16.33263709,  7.89251516])],\n",
       " [array([ 3.76160402, 20.46961333, 14.56367253]),\n",
       "  array([ 4.21623211, 21.49653803, 15.55802606])],\n",
       " [array([18.49488764,  4.07127418,  3.433893  ]),\n",
       "  array([19.2571105 ,  5.36038182,  3.51885055])],\n",
       " [array([15.63579021,  9.63093454, 11.57031791]),\n",
       "  array([16.38157433,  9.9607995 , 12.82928382])],\n",
       " [array([9.907929  , 7.67526871, 4.11778319]),\n",
       "  array([10.75500558,  8.2361374 ,  5.22136263])],\n",
       " [array([12.26093943, 17.73102346, 20.60067952]),\n",
       "  array([13.70844102, 17.86513179, 20.97048231])],\n",
       " [array([17.89840301,  7.99302817,  9.38290618]),\n",
       "  array([18.49163455,  9.17027027, 10.09857187])],\n",
       " [array([ 5.07719604,  0.20063334, 10.61839442]),\n",
       "  array([ 5.20653828,  1.33088313, 11.59604773])],\n",
       " [array([ 4.51040524,  3.55940106, 12.2301839 ]),\n",
       "  array([ 5.33040462,  4.12645253, 13.35092189])],\n",
       " [array([7.08318473, 2.10273846, 5.20726111]),\n",
       "  array([8.25517319, 3.02050696, 5.39204215])],\n",
       " [array([ 3.72413454,  7.94440057, 19.29371528]),\n",
       "  array([ 4.18966033,  8.80012255, 20.43434038])],\n",
       " [array([ 8.35055058, 17.00677356, 16.42562029]),\n",
       "  array([ 8.9629978 , 17.7986188 , 17.54271004])],\n",
       " [array([ 8.04292789, 11.41273486,  5.49941688]),\n",
       "  array([ 8.85208661, 11.80112269,  6.70125592])],\n",
       " [array([ 3.14596778, 18.74322983, 10.4893366 ]),\n",
       "  array([ 3.62378031, 19.02184153, 11.88363596])],\n",
       " [array([ 0.24918413, 17.02731368,  9.73340345]),\n",
       "  array([ 1.36795921, 17.8325146 , 10.3250062 ])],\n",
       " [array([19.28179618, 17.35338793,  3.45943068]),\n",
       "  array([20.14103392, 18.52466733,  3.83334922])],\n",
       " [array([ 8.37928624, 13.43497887, 18.67545299]),\n",
       "  array([ 9.42095525, 14.22800866, 19.4075933 ])],\n",
       " [array([13.22183936,  8.49207548,  4.09273001]),\n",
       "  array([14.12084536,  9.5906864 ,  4.57733527])],\n",
       " [array([15.90004568,  2.44267898, 17.49457097]),\n",
       "  array([16.84561239,  3.38929782, 18.17266858])],\n",
       " [array([19.28070959,  4.14402674, 18.14414257]),\n",
       "  array([20.3682444 ,  4.84658549, 18.90155873])],\n",
       " [array([ 3.00217356,  7.83952931, 16.38980213]),\n",
       "  array([ 3.44521474,  9.08918167, 17.09128875])],\n",
       " [array([ 5.05307124, 21.87511855, 20.01602236]),\n",
       "  array([ 6.20903637, 22.77398846, 20.34125688])],\n",
       " [array([ 4.08175052, 15.36495483, 15.6028798 ]),\n",
       "  array([ 4.4463123 , 16.16286445, 16.81961106])],\n",
       " [array([11.73014694, 12.52761983, 10.32875157]),\n",
       "  array([12.48176422, 13.03089665, 11.5253233 ])],\n",
       " [array([14.55546378, 12.48244723, 11.8596683 ]),\n",
       "  array([15.05880134, 13.04330015, 13.15662447])],\n",
       " [array([ 1.53844969,  7.95377356, 13.22432665]),\n",
       "  array([ 2.47947181,  8.72598873, 14.10077466])],\n",
       " [array([2.02463195, 2.82658675, 9.63560142]),\n",
       "  array([ 2.91422898,  3.77065492, 10.38882943])],\n",
       " [array([11.50487094, 14.61165699, 14.28970139]),\n",
       "  array([11.68987433, 14.66332291, 15.77735201])],\n",
       " [array([14.42813284,  1.73372526, 20.36197815]),\n",
       "  array([15.58228121,  2.33603769, 21.1070696 ])],\n",
       " [array([8.67334833, 0.66062806, 0.13826915]),\n",
       "  array([9.3727366 , 1.90782999, 0.59141748])],\n",
       " [array([8.10075152, 5.29969279, 1.04819338]),\n",
       "  array([8.17814748, 6.27170339, 2.18802024])],\n",
       " [array([ 3.34638544, 17.65652605, 17.99100907]),\n",
       "  array([ 4.02297662, 18.44920909, 19.06984083])],\n",
       " [array([18.54390537, 12.24502814, 15.15416937]),\n",
       "  array([20.02457092, 12.36002874, 15.36489283])],\n",
       " [array([9.84170868, 1.78822455, 8.18198075]),\n",
       "  array([10.60751812,  2.04043886,  9.44686171])],\n",
       " [array([14.41257646,  0.02678235,  6.88167541]),\n",
       "  array([14.97748353,  0.69536743,  8.09981907])],\n",
       " [array([ 4.61144018, 16.01915115,  9.39609912]),\n",
       "  array([ 5.08529939, 17.2830229 , 10.05038167])],\n",
       " [array([21.49611011,  0.63607649, 17.51444715]),\n",
       "  array([22.69548831,  1.5310403 , 17.61707124])],\n",
       " [array([20.90423673,  5.11131965, 16.67856927]),\n",
       "  array([22.03927195,  5.15797388, 17.65811939])],\n",
       " [array([4.42280103, 4.16594303, 4.22800555]),\n",
       "  array([5.31583907, 5.19764945, 4.85095412])],\n",
       " [array([20.16367539,  8.86647639,  3.57881371]),\n",
       "  array([21.48290326,  8.88655749,  4.29242044])],\n",
       " [array([10.14551744, 10.20355755, 12.86906247]),\n",
       "  array([11.603101  , 10.26184458, 13.21842304])],\n",
       " [array([15.3977886 , 15.92305902, 15.30264466]),\n",
       "  array([16.48454218, 16.94433626, 15.46376398])],\n",
       " [array([18.98102794, 17.19148975, 13.41029273]),\n",
       "  array([19.17978483, 17.73208069, 14.79530433])],\n",
       " [array([12.2584624 ,  3.08862996, 15.67744928]),\n",
       "  array([13.32040483,  4.14790405, 15.69216899])],\n",
       " [array([19.42085189,  4.9210803 ,  9.78063643]),\n",
       "  array([20.68620116,  5.30333704, 10.4896999 ])],\n",
       " [array([ 1.89689807, 19.71323575,  7.17606214]),\n",
       "  array([ 3.11134701, 20.20748289,  7.90464537])],\n",
       " [array([10.03880126,  9.79529592,  3.80130314]),\n",
       "  array([10.20108922, 10.38079494,  5.17274527])],\n",
       " [array([21.48966242, 20.8481103 ,  3.17624492]),\n",
       "  array([22.55536588, 21.36174865,  4.09844436])]]"
      ]
     },
     "execution_count": 6,
     "metadata": {},
     "output_type": "execute_result"
    }
   ],
   "source": [
    "positions = init.init_system(box_length,Npart)\n",
    "positions"
   ]
  },
  {
   "cell_type": "code",
   "execution_count": 7,
   "metadata": {},
   "outputs": [
    {
     "data": {
      "text/plain": [
       "58810.80801203645"
      ]
     },
     "execution_count": 7,
     "metadata": {},
     "output_type": "execute_result"
    }
   ],
   "source": [
    "energy  = utility.total_energy(positions,box_length)\n",
    "energy"
   ]
  },
  {
   "cell_type": "code",
   "execution_count": 29,
   "metadata": {},
   "outputs": [
    {
     "name": "stdout",
     "output_type": "stream",
     "text": [
      "440678670.2446585 32.690185030418846\n",
      "Old state accepted\n"
     ]
    }
   ],
   "source": [
    "positions,_ = MC_step(positions, Npart)\n"
   ]
  },
  {
   "cell_type": "code",
   "execution_count": 47,
   "metadata": {},
   "outputs": [],
   "source": [
    "energy = np.load('energy_eth.npy', allow_pickle=True)\n",
    "# energy = energy[20000:]"
   ]
  },
  {
   "cell_type": "code",
   "execution_count": 46,
   "metadata": {},
   "outputs": [
    {
     "data": {
      "text/plain": [
       "Text(0, 0.5, 'Energy')"
      ]
     },
     "execution_count": 46,
     "metadata": {},
     "output_type": "execute_result"
    },
    {
     "data": {
      "image/png": "[encoded data removed]",
      "text/plain": [
       "<Figure size 432x288 with 1 Axes>"
      ]
     },
     "metadata": {
      "needs_background": "light"
     },
     "output_type": "display_data"
    }
   ],
   "source": [
    "import matplotlib.pyplot as plt\n",
    "steps = np.arange(energy.shape[0])\n",
    "\n",
    "plt.plot(steps,energy)\n",
    "plt.xlabel(\"steps\")\n",
    "plt.ylabel(\"Energy\")"
   ]
  },
  {
   "cell_type": "code",
   "execution_count": 41,
   "metadata": {},
   "outputs": [
    {
     "data": {
      "text/plain": [
       "100001"
      ]
     },
     "execution_count": 41,
     "metadata": {},
     "output_type": "execute_result"
    }
   ],
   "source": [
    "energy.shape[0]"
   ]
  },
  {
   "cell_type": "code",
   "execution_count": null,
   "metadata": {},
   "outputs": [],
   "source": []
  }
 ],
 "metadata": {
  "kernelspec": {
   "display_name": "Python 3",
   "language": "python",
   "name": "python3"
  },
  "language_info": {
   "codemirror_mode": {
    "name": "ipython",
    "version": 3
   },
   "file_extension": ".py",
   "mimetype": "text/x-python",
   "name": "python",
   "nbconvert_exporter": "python",
   "pygments_lexer": "ipython3",
   "version": "3.10.6"
  },
  "orig_nbformat": 4
 },
 "nbformat": 4,
 "nbformat_minor": 2
}
