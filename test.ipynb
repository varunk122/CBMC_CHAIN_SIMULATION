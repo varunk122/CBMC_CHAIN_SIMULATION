{
 "cells": [
  {
   "cell_type": "code",
   "execution_count": null,
   "metadata": {},
   "outputs": [],
   "source": [
    "import utility\n",
    "\n",
    "utility.lj_potential(0.5,10)"
   ]
  },
  {
   "cell_type": "code",
   "execution_count": null,
   "metadata": {},
   "outputs": [],
   "source": [
    "utility.pbc(43,10)"
   ]
  },
  {
   "cell_type": "code",
   "execution_count": null,
   "metadata": {},
   "outputs": [],
   "source": [
    "import init\n",
    "#parameters\n",
    "rho = 0.01\n",
    "Npart = 108\n",
    "box_length = (Npart / rho) ** (1/3)\n",
    "# print(box_length)\n",
    "bond_length = 2.353  #angstrom\n",
    "\n",
    "k = 30\n",
    "temp = 300 #kelvin\n",
    "beta = 1\n",
    "\n",
    "debug = True\n",
    "accepted_steps = 0"
   ]
  },
  {
   "cell_type": "code",
   "execution_count": null,
   "metadata": {},
   "outputs": [],
   "source": [
    "positions = init.init_system(box_length, Npart)\n"
   ]
  },
  {
   "cell_type": "code",
   "execution_count": null,
   "metadata": {},
   "outputs": [],
   "source": [
    "positions\n",
    "import random\n",
    "import numpy as np\n"
   ]
  },
  {
   "cell_type": "code",
   "execution_count": null,
   "metadata": {},
   "outputs": [],
   "source": [
    "idx = random.randint(0,Npart-1)\n",
    "idx"
   ]
  },
  {
   "cell_type": "code",
   "execution_count": null,
   "metadata": {},
   "outputs": [],
   "source": [
    "prev_position = np.copy(positions[idx])\n",
    "prev_position"
   ]
  },
  {
   "cell_type": "code",
   "execution_count": null,
   "metadata": {},
   "outputs": [],
   "source": [
    "Wo1 = k * np.exp(-beta * utility.energy_of_particle(idx,0,positions,box_length))\n",
    "Wo1"
   ]
  },
  {
   "cell_type": "code",
   "execution_count": null,
   "metadata": {},
   "outputs": [],
   "source": [
    "Wo2 = np.exp(-beta * utility.energy_of_particle(idx,1,positions,box_length))\n",
    "for i in range(k-1):\n",
    "    r = utility.generate_random_unit_vector() * bond_length\n",
    "    positions[idx][1] = positions[idx][0] + r\n",
    "    Wo2 += np.exp(-beta * utility.energy_of_particle(idx,1,positions,box_length))\n",
    "    \n",
    "Wo = Wo1 * Wo2\n",
    "print(Wo)"
   ]
  },
  {
   "cell_type": "code",
   "execution_count": null,
   "metadata": {},
   "outputs": [],
   "source": [
    "positions[idx][0] = np.random.rand(3)* box_length\n",
    "positions[idx][0]"
   ]
  },
  {
   "cell_type": "code",
   "execution_count": null,
   "metadata": {},
   "outputs": [],
   "source": [
    "Wn1 =  k * np.exp(-beta * utility.energy_of_particle(idx,0,positions,box_length))\n",
    "Wn1"
   ]
  },
  {
   "cell_type": "code",
   "execution_count": null,
   "metadata": {},
   "outputs": [],
   "source": [
    "#select a random_chain\n",
    "    global accepted_steps\n",
    "    idx = random.randint(0,Npart-1)\n",
    "    #find rosenbluth factor for previous configuration\n",
    "    prev_position = np.copy(positions[idx])\n",
    "    Wo1 = k * np.exp(-beta * utility.energy_of_particle(idx,0,positions,box_length))\n",
    "    Wo2 = np.exp(-beta * utility.energy_of_particle(idx,1,positions,box_length))\n",
    "    for i in range(k-1):\n",
    "        r = utility.generate_random_unit_vector() * bond_length\n",
    "        positions[idx][1] = positions[idx][0] + r\n",
    "        Wo2 += np.exp(-beta * utility.energy_of_particle(idx,1,positions,box_length))\n",
    "    \n",
    "    Wo = Wo1 * Wo2\n",
    "    #find rosenbluth factor for new configuration\n",
    "    #choose a random postion for first atom\n",
    "    positions[idx][0] = np.random.rand(3)* box_length\n",
    "    Wn1 =  k * np.exp(-beta * utility.energy_of_particle(idx,0,positions,box_length))\n",
    "    second_atom_pos = []\n",
    "    Wn2 = []\n",
    "    for i in range(k):\n",
    "        r = utility.generate_random_unit_vector()* bond_length\n",
    "        positions[idx][1] = positions[idx][0] + r\n",
    "        second_atom_pos.append(positions[idx][1])\n",
    "        Wn2.append(np.exp(-beta * utility.energy_of_particle(idx,1,positions,box_length)))\n",
    "\n",
    "    Wn2_sum = sum(Wn2)\n",
    "\n",
    "    #select a configuration i with probaility Wn2[i]/Wn2_sum\n",
    "    cum_Wn2 = Wn2[0]\n",
    "    r_Wn2_sum = random.random()*Wn2_sum\n",
    "    i = 0\n",
    "    while cum_Wn2 < r_Wn2_sum:\n",
    "        i +=1\n",
    "        cum_Wn2 += Wn2[i]\n",
    "    print(i, Wn2[i])\n",
    "    Wn = Wn1 * Wn2_sum\n",
    "    #replace position of second atom with selected second atom configuration \n",
    "    positions[idx][1] = second_atom_pos[i]\n",
    "    print(Wo, \" \", Wn)\n",
    "    if Wn < Wo and random.random() > Wn/Wo:\n",
    "        #not accept\n",
    "        positions[idx] = prev_position   \n",
    "    else :\n",
    "        accepted_steps += 1\n",
    "        if debug:\n",
    "            print(\"new move accepted\")\n",
    "    \n",
    "    return \n"
   ]
  },
  {
   "cell_type": "code",
   "execution_count": null,
   "metadata": {},
   "outputs": [],
   "source": [
    "import init\n",
    "import utility\n",
    "import visualize\n",
    "import random\n",
    "import numpy as np\n",
    "\n",
    "#parameters\n",
    "rho = 0.01\n",
    "Npart = 108\n",
    "box_length = (Npart / rho) ** (1/3)\n",
    "# print(box_length)\n",
    "bond_length = 2.353  #angstrom\n",
    "\n",
    "k = 30\n",
    "temp = 300 #kelvin\n",
    "beta = 1\n",
    "\n",
    "debug = True\n",
    "accepted_steps = 0\n",
    "\n",
    "positions = init.init_system(box_length, Npart)\n",
    "\n",
    "def check(positions):\n",
    "    for pos in positions:\n",
    "        if np.linalg.norm(pos[0] - pos[1]) > bond_length + 0.01:\n",
    "            return False\n",
    "    \n",
    "    return True\n",
    "\n",
    "def get_minimum_distance(positions, idx1, idx2):\n",
    "    min_len = 1000\n",
    "    for i in range(len(positions)):\n",
    "        if idx1 !=i:\n",
    "            for pos in positions[i]:\n",
    "                min_len = min(min_len, utility.pbc(np.linalg.norm(pos - positions[idx1][idx2]),box_length))\n",
    "    \n",
    "    return min_len\n",
    "\n",
    "def CBMC_step(positions, Npart):\n",
    "    #select a random_chain\n",
    "    global accepted_steps\n",
    "    idx = random.randint(0,Npart-1)\n",
    "    #find rosenbluth factor for previous configuration\n",
    "    prev_position = np.copy(positions[idx])\n",
    "    Wo1 = k * np.exp(-beta * utility.energy_of_particle(idx,0,positions,box_length))\n",
    "    Wo2 = np.exp(-beta * utility.energy_of_particle(idx,1,positions,box_length))\n",
    "    for i in range(k-1):\n",
    "        r = utility.generate_random_unit_vector() * bond_length\n",
    "        positions[idx][1] = positions[idx][0] + r\n",
    "        Wo2 += np.exp(-beta * utility.energy_of_particle(idx,1,positions,box_length))\n",
    "    # print(\"Wo2\" ,Wo2)\n",
    "    Wo = Wo1 * Wo2\n",
    "    #find rosenbluth factor for new configuration\n",
    "    #choose a random postion for first atom\n",
    "    positions[idx][0] = np.random.rand(3)* box_length\n",
    "    Wn1 =  k * np.exp(-beta * utility.energy_of_particle(idx,0,positions,box_length))\n",
    "    second_atom_pos = []\n",
    "    Wn2 = []\n",
    "    for i in range(k):\n",
    "        r = utility.generate_random_unit_vector()* bond_length\n",
    "        positions[idx][1] = positions[idx][0] + r\n",
    "        second_atom_pos.append(positions[idx][1])\n",
    "        Wn2.append(np.exp(-beta * utility.energy_of_particle(idx,1,positions,box_length)))\n",
    "        # if get_minimum_distance(positions,idx,1) <1 and np.exp(-beta * utility.energy_of_particle(idx,1,positions,box_length)) >1:\n",
    "            # print(Wn2[i],np.exp(-beta * utility.energy_of_particle(idx,1,positions,box_length)) )\n",
    "\n",
    "    Wn2_sum = sum(Wn2)\n",
    "    # print(Wn2_sum)\n",
    "    #select a configuration i with probaility Wn2[i]/Wn2_sum\n",
    "    cum_Wn2 = Wn2[0]\n",
    "    r_Wn2_sum = random.random()*Wn2_sum\n",
    "    i = 0\n",
    "    while cum_Wn2 < r_Wn2_sum:\n",
    "        i +=1\n",
    "        cum_Wn2 += Wn2[i]\n",
    "    # print(i, Wn2[i])\n",
    "    Wn = Wn1 * Wn2_sum\n",
    "    #replace position of second atom with selected second atom configuration \n",
    "    positions[idx][1] = second_atom_pos[i]\n",
    "    # print(Wo, \" \", Wn)\n",
    "    if Wn < Wo and random.random() > Wn/Wo:\n",
    "        #not accept\n",
    "        positions[idx] = prev_position   \n",
    "    else :\n",
    "        accepted_steps += 1\n",
    "        if debug:\n",
    "            print(\"new move accepted\")\n",
    "            print(Wn2[i], Wn1,Wn2[i]/Wn2_sum, get_minimum_distance(positions,idx,0),get_minimum_distance(positions,idx,1))\n",
    "            if get_minimum_distance(positions,idx,1) < 1:\n",
    "                print(np.exp(-1*utility.energy_of_particle(idx,1,positions,box_length)))\n",
    "                # print(Wn2)\n",
    "                \n",
    "                # return True\n",
    "    \n",
    "    return False\n",
    "\n",
    "total_energy_sum = 0\n",
    "\n",
    "for i in range(100):\n",
    "    # visualize.visualize(positions)\n",
    "    energy = utility.total_energy(positions,box_length)\n",
    "    # print(energy)\n",
    "    total_energy_sum += energy\n",
    "    if CBMC_step(positions,Npart) == True:\n",
    "        break\n",
    "\n",
    "\n",
    "print(f\"avg_energy {total_energy_sum / 100}\")\n",
    "print(f\"Acceptance percentage {accepted_steps/1}\")\n",
    "visualize.visualize(positions)\n"
   ]
  },
  {
   "cell_type": "code",
   "execution_count": null,
   "metadata": {},
   "outputs": [],
   "source": [
    "a = [5,3,2,1,4]\n",
    "b = sum(a)\n",
    "b\n",
    "a[1]"
   ]
  },
  {
   "cell_type": "code",
   "execution_count": null,
   "metadata": {},
   "outputs": [],
   "source": [
    "\n",
    "global accepted_steps\n",
    "idx = random.randint(0,Npart-1)\n",
    "#find rosenbluth factor for previous configuration\n",
    "prev_position = np.copy(positions[idx])\n",
    "Wo1 = k * np.exp(-beta * utility.energy_of_particle(idx,0,positions,box_length))\n",
    "Wo2 = np.exp(-beta * utility.energy_of_particle(idx,1,positions,box_length))\n",
    "for i in range(k-1):\n",
    "    r = utility.generate_random_unit_vector() * bond_length\n",
    "    positions[idx][1] = positions[idx][0] + r\n",
    "    Wo2 += np.exp(-beta * utility.energy_of_particle(idx,1,positions,box_length))\n",
    "# print(\"Wo2\" ,Wo2)\n",
    "Wo = Wo1 * Wo2\n",
    "#find rosenbluth factor for new configuration\n",
    "#choose a random postion for first atom\n",
    "positions[idx][0] = np.random.rand(3)* box_length\n",
    "Wn1 =  k * np.exp(-beta * utility.energy_of_particle(idx,0,positions,box_length))\n",
    "second_atom_pos = []\n",
    "Wn2 = []\n",
    "for i in range(k):\n",
    "    r = utility.generate_random_unit_vector()* bond_length\n",
    "    positions[idx][1] = positions[idx][0] + r\n",
    "    second_atom_pos.append(positions[idx][1])\n",
    "    Wn2.append(np.exp(-beta * utility.energy_of_particle(idx,1,positions,box_length)))\n",
    "    # if get_minimum_distance(positions,idx,1) <1 and np.exp(-beta * utility.energy_of_particle(idx,1,positions,box_length)) >1:\n",
    "        # print(Wn2[i],np.exp(-beta * utility.energy_of_particle(idx,1,positions,box_length)) )\n",
    "\n",
    "Wn2_sum = sum(Wn2)\n",
    "# print(Wn2_sum)\n",
    "#select a configuration i with probaility Wn2[i]/Wn2_sum\n",
    "cum_Wn2 = Wn2[0]\n",
    "r_Wn2_sum = random.random()*Wn2_sum\n",
    "i = 0\n",
    "while cum_Wn2 < r_Wn2_sum:\n",
    "    i +=1\n",
    "    cum_Wn2 += Wn2[i]\n",
    "# print(i, Wn2[i])\n",
    "Wn = Wn1 * Wn2_sum\n",
    "#replace position of second atom with selected second atom configuration \n",
    "positions[idx][1] = second_atom_pos[i]\n",
    "# print(Wo, \" \", Wn)\n",
    "if Wn < Wo and random.random() > Wn/Wo:\n",
    "    #not accept\n",
    "    positions[idx] = prev_position   \n",
    "else :\n",
    "    accepted_steps += 1\n",
    "    if debug:\n",
    "        print(\"new move accepted\")\n",
    "        print(Wn2[i], Wn1,Wn2[i]/Wn2_sum, get_minimum_distance(positions,idx,0),get_minimum_distance(positions,idx,1))\n",
    "        if get_minimum_distance(positions,idx,1) < 1:\n",
    "            print(np.exp(-1*utility.energy_of_particle(idx,1,positions,box_length)))\n",
    "            # print(Wn2)\n",
    "            \n",
    "            # return True"
   ]
  },
  {
   "cell_type": "code",
   "execution_count": null,
   "metadata": {},
   "outputs": [],
   "source": [
    "a= np.array((3,1))\n",
    "c = []\n",
    "for i in range(10):\n",
    "    a +=1\n",
    "    c.append(a)\n",
    "print(c)"
   ]
  },
  {
   "cell_type": "code",
   "execution_count": 1,
   "metadata": {},
   "outputs": [
    {
     "data": {
      "image/png": "[encoded data removed]",
      "text/plain": [
       "<Figure size 432x288 with 1 Axes>"
      ]
     },
     "metadata": {
      "needs_background": "light"
     },
     "output_type": "display_data"
    }
   ],
   "source": [
    "import visualize\n",
    "\n",
    "visualize.plot_energy_from_file(\"energy.txt\")"
   ]
  },
  {
   "cell_type": "code",
   "execution_count": null,
   "metadata": {},
   "outputs": [],
   "source": [
    "import matplotlib.pyplot as plt\n",
    "with open(\"energy.txt\",'r') as f:\n",
    "    energy = [float(line.strip()) for line in f]\n",
    "    steps = [ int(100 * i) for i in range(len(energy))]\n",
    "    plt.plot(steps, energy)\n",
    "    plt.ylabel(\"Energy (KbT)\")\n",
    "    plt.xlabel(\"Number of steps\")\n",
    "    plt.grid()\n",
    "    plt.show()"
   ]
  },
  {
   "cell_type": "code",
   "execution_count": null,
   "metadata": {},
   "outputs": [],
   "source": [
    "np_positions = np.load('positions.npy', allow_pickle=True)\n"
   ]
  },
  {
   "cell_type": "code",
   "execution_count": null,
   "metadata": {},
   "outputs": [],
   "source": [
    "positions = []\n",
    "for mol_pos in np_positions:\n",
    "    positions.append([mol_pos[0],mol_pos[1]])"
   ]
  },
  {
   "cell_type": "code",
   "execution_count": null,
   "metadata": {},
   "outputs": [],
   "source": [
    "utility.total_energy(positions,box_length)"
   ]
  },
  {
   "cell_type": "code",
   "execution_count": 1,
   "metadata": {},
   "outputs": [],
   "source": [
    "import init\n",
    "from config import *\n",
    "import utility\n",
    "positions = init.init_system(box_length,Npart)"
   ]
  },
  {
   "cell_type": "markdown",
   "metadata": {},
   "source": []
  },
  {
   "cell_type": "code",
   "execution_count": 2,
   "metadata": {},
   "outputs": [
    {
     "data": {
      "text/plain": [
       "108"
      ]
     },
     "execution_count": 2,
     "metadata": {},
     "output_type": "execute_result"
    }
   ],
   "source": [
    "len(positions)"
   ]
  },
  {
   "cell_type": "code",
   "execution_count": 3,
   "metadata": {},
   "outputs": [
    {
     "data": {
      "image/png": "[encoded data removed]",
      "text/plain": [
       "<Figure size 432x288 with 1 Axes>"
      ]
     },
     "metadata": {
      "needs_background": "light"
     },
     "output_type": "display_data"
    },
    {
     "data": {
      "text/plain": [
       "-47.758367334335034"
      ]
     },
     "execution_count": 3,
     "metadata": {},
     "output_type": "execute_result"
    }
   ],
   "source": [
    "import visualize, utility\n",
    "visualize.visualize(positions)\n",
    "utility.total_energy(positions,box_length)"
   ]
  },
  {
   "cell_type": "code",
   "execution_count": 4,
   "metadata": {},
   "outputs": [
    {
     "name": "stdout",
     "output_type": "stream",
     "text": [
      "Energy of the system at step 0 is: -65.30504692641719\n",
      "Old Rosenbluth factor 4021.5464018255266 New Rosenbluth factor 9.306097734724384e-29, Move not accpeted !! \n",
      "Energy of the system at step 1 is: -65.30504692641719\n",
      "Old Rosenbluth factor 2671.2205565736995 New Rosenbluth factor 273.8386975883296, Move not accpeted !! \n",
      "Energy of the system at step 2 is: -65.30504692641719\n",
      "Old Rosenbluth factor 1487.722543428808 New Rosenbluth factor 0.0, Move not accpeted !! \n",
      "Energy of the system at step 3 is: -65.30504692641719\n",
      "Old Rosenbluth factor 2854.2776780075624 New Rosenbluth factor 10000.432402175322, Move accpeted !! \n",
      "Energy of the system at step 4 is: -67.80666129566895\n",
      "Old Rosenbluth factor 786231.6089753298 New Rosenbluth factor 0.0, Move not accpeted !! \n",
      "Energy of the system at step 5 is: -67.80666129566895\n",
      "Old Rosenbluth factor 14635.145350897265 New Rosenbluth factor 0.0, Move not accpeted !! \n",
      "Energy of the system at step 6 is: -67.80666129566895\n",
      "Old Rosenbluth factor 1147434.4366605687 New Rosenbluth factor 0.0, Move not accpeted !! \n",
      "Energy of the system at step 7 is: -67.80666129566895\n",
      "Old Rosenbluth factor 1075671.6781692712 New Rosenbluth factor 0.000151145265194148, Move not accpeted !! \n",
      "Energy of the system at step 8 is: -67.80666129566895\n",
      "Old Rosenbluth factor 1763.8763828583346 New Rosenbluth factor 0.0, Move not accpeted !! \n",
      "Energy of the system at step 9 is: -67.80666129566895\n",
      "Old Rosenbluth factor 5669.867966693416 New Rosenbluth factor 0.0, Move not accpeted !! \n",
      "Energy of the system at step 10 is: -67.80666129566895\n",
      "Old Rosenbluth factor 4296.433361306405 New Rosenbluth factor 0.0, Move not accpeted !! \n",
      "Energy of the system at step 11 is: -67.80666129566895\n",
      "Old Rosenbluth factor 1090502.3981008865 New Rosenbluth factor 0.0, Move not accpeted !! \n",
      "Energy of the system at step 12 is: -67.80666129566895\n",
      "Old Rosenbluth factor 3416.3853256908346 New Rosenbluth factor 0.0, Move not accpeted !! \n",
      "Energy of the system at step 13 is: -67.80666129566895\n",
      "Old Rosenbluth factor 5267.524353355599 New Rosenbluth factor 4.558080133019876e-24, Move not accpeted !! \n",
      "Energy of the system at step 14 is: -67.80666129566895\n",
      "Old Rosenbluth factor 11381.083640825425 New Rosenbluth factor 0.0, Move not accpeted !! \n",
      "Energy of the system at step 15 is: -67.80666129566895\n",
      "Old Rosenbluth factor 9035.268433618085 New Rosenbluth factor 5.677522933284847e-81, Move not accpeted !! \n",
      "Energy of the system at step 16 is: -67.80666129566895\n",
      "Old Rosenbluth factor 5276.606219284993 New Rosenbluth factor 29531.060262976895, Move accpeted !! \n",
      "Energy of the system at step 17 is: -72.11118712712178\n",
      "Old Rosenbluth factor 216060.79680158096 New Rosenbluth factor 0.0, Move not accpeted !! \n",
      "Energy of the system at step 18 is: -72.11118712712178\n",
      "Old Rosenbluth factor 6841.934925806759 New Rosenbluth factor 57774.09098656878, Move accpeted !! \n",
      "Energy of the system at step 19 is: -74.4457823194676\n",
      "Old Rosenbluth factor 11023.161219773596 New Rosenbluth factor 0.0, Move not accpeted !! \n",
      "Energy of the system at step 20 is: -74.4457823194676\n",
      "Old Rosenbluth factor 5136.870700461122 New Rosenbluth factor 0.0, Move not accpeted !! \n",
      "Energy of the system at step 21 is: -74.4457823194676\n",
      "Old Rosenbluth factor 5362.3678148213985 New Rosenbluth factor 0.0, Move not accpeted !! \n",
      "Energy of the system at step 22 is: -74.4457823194676\n",
      "Old Rosenbluth factor 8365.612892790654 New Rosenbluth factor 0.0, Move not accpeted !! \n",
      "Energy of the system at step 23 is: -74.4457823194676\n",
      "Old Rosenbluth factor 3838.4586596878894 New Rosenbluth factor 0.0, Move not accpeted !! \n",
      "Energy of the system at step 24 is: -74.4457823194676\n",
      "Old Rosenbluth factor 3561.6870743177114 New Rosenbluth factor 0.0, Move not accpeted !! \n",
      "Energy of the system at step 25 is: -74.4457823194676\n",
      "Old Rosenbluth factor 7848.059311548055 New Rosenbluth factor 0.0, Move not accpeted !! \n",
      "Energy of the system at step 26 is: -74.4457823194676\n",
      "Old Rosenbluth factor 4206.646309202035 New Rosenbluth factor 0.0, Move not accpeted !! \n",
      "Energy of the system at step 27 is: -74.4457823194676\n",
      "Old Rosenbluth factor 3808.901453313246 New Rosenbluth factor 16721.59756738988, Move accpeted !! \n",
      "Energy of the system at step 28 is: -77.10471376566277\n",
      "Old Rosenbluth factor 49136.448412750724 New Rosenbluth factor 0.0, Move not accpeted !! \n",
      "Energy of the system at step 29 is: -77.10471376566277\n",
      "Old Rosenbluth factor 24124.87108883604 New Rosenbluth factor 27.51623679780361, Move not accpeted !! \n",
      "Energy of the system at step 30 is: -77.10471376566277\n",
      "Old Rosenbluth factor 4409.226278014521 New Rosenbluth factor 0.0, Move not accpeted !! \n",
      "Energy of the system at step 31 is: -77.10471376566277\n",
      "Old Rosenbluth factor 9325.247903562264 New Rosenbluth factor 32939.841379693564, Move accpeted !! \n",
      "Energy of the system at step 32 is: -79.32816758015674\n",
      "Old Rosenbluth factor 45698.60558462577 New Rosenbluth factor 0.0, Move not accpeted !! \n",
      "Energy of the system at step 33 is: -79.32816758015674\n",
      "Old Rosenbluth factor 17554.190562009302 New Rosenbluth factor 37068.52703241094, Move accpeted !! \n"
     ]
    }
   ],
   "source": [
    "from ethane_cbmc import *\n",
    "# from tempfile import TemporaryFile\n",
    "# position_file = TemporaryFile()\n",
    "\n",
    "# positions = init.init_system(box_length, Npart)\n",
    "# positions = utility.read_positions_from_file(\"positions.npy\")\n",
    "\n",
    "# energy_file = open(\"energy.txt\",'a' )\n",
    "\n",
    "for i in range(nsteps):\n",
    "    # visualize.visualize(positions)\n",
    "    energy = utility.total_energy(positions,box_length)\n",
    "    print(f\"Energy of the system at step {i} is: {energy}\")\n",
    "    # if i%write_interval == 0:\n",
    "        # energy_file.write(str(energy)+\"\\n\")\n",
    "    positions = CBMC_step(positions,Npart)\n",
    "\n",
    "# np.save('positions.npy', np.array(positions, dtype=object), allow_pickle=True)\n"
   ]
  },
  {
   "cell_type": "code",
   "execution_count": 13,
   "metadata": {},
   "outputs": [],
   "source": [
    "positions_list = [init.init_system(box_length,Npart),init.init_system(box_length,Npart)]"
   ]
  },
  {
   "cell_type": "code",
   "execution_count": null,
   "metadata": {},
   "outputs": [],
   "source": [
    "import numpy as np\n",
    "import matplotlib.pyplot as plt\n",
    "from matplotlib.animation import FuncAnimation, PillowWriter\n",
    "\n",
    "def animate(i):\n",
    "    # fig = plt.figure()\n",
    "    ax.cla()\n",
    "    positions = positions_list[i]\n",
    "    for pos in positions:\n",
    "        ax.plot([pos[0][0],pos[1][0]],[pos[0][1],pos[1][1]],\n",
    "        [pos[0][2],pos[1][2]], 'g')\n",
    "        ax.scatter3D([pos[0][0]],[pos[0][1]], [pos[0][2]], color = 'red')\n",
    "        ax.scatter3D([pos[1][0]],[pos[1][1]], [pos[1][2]], color = 'blue')\n",
    "    \n",
    "\n",
    "num_plots = 2\n",
    "fig = plt.figure(figsize=(20,20))\n",
    "ax = plt.axes(projection='3d')\n",
    "ani = FuncAnimation(fig, animate, frames=num_plots, interval=200)\n",
    "\n",
    "writer = PillowWriter(fps=1)\n",
    "ani.save('plots.gif', writer=writer)\n"
   ]
  },
  {
   "cell_type": "code",
   "execution_count": null,
   "metadata": {},
   "outputs": [],
   "source": []
  },
  {
   "cell_type": "code",
   "execution_count": null,
   "metadata": {},
   "outputs": [],
   "source": []
  }
 ],
 "metadata": {
  "kernelspec": {
   "display_name": "Python 3",
   "language": "python",
   "name": "python3"
  },
  "language_info": {
   "codemirror_mode": {
    "name": "ipython",
    "version": 3
   },
   "file_extension": ".py",
   "mimetype": "text/x-python",
   "name": "python",
   "nbconvert_exporter": "python",
   "pygments_lexer": "ipython3",
   "version": "3.10.6"
  },
  "orig_nbformat": 4
 },
 "nbformat": 4,
 "nbformat_minor": 2
}
