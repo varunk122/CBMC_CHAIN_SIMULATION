{
 "cells": [
  {
   "cell_type": "code",
   "execution_count": null,
   "metadata": {},
   "outputs": [],
   "source": [
    "import utility\n",
    "\n",
    "utility.lj_potential(0.5,10)"
   ]
  },
  {
   "cell_type": "code",
   "execution_count": null,
   "metadata": {},
   "outputs": [],
   "source": [
    "utility.pbc(43,10)"
   ]
  },
  {
   "cell_type": "code",
   "execution_count": null,
   "metadata": {},
   "outputs": [],
   "source": [
    "import init\n",
    "#parameters\n",
    "rho = 0.01\n",
    "Npart = 108\n",
    "box_length = (Npart / rho) ** (1/3)\n",
    "# print(box_length)\n",
    "bond_length = 2.353  #angstrom\n",
    "\n",
    "k = 30\n",
    "temp = 300 #kelvin\n",
    "beta = 1\n",
    "\n",
    "debug = True\n",
    "accepted_steps = 0"
   ]
  },
  {
   "cell_type": "code",
   "execution_count": null,
   "metadata": {},
   "outputs": [],
   "source": [
    "positions = init.init_system(box_length, Npart)\n"
   ]
  },
  {
   "cell_type": "code",
   "execution_count": null,
   "metadata": {},
   "outputs": [],
   "source": [
    "positions\n",
    "import random\n",
    "import numpy as np\n"
   ]
  },
  {
   "cell_type": "code",
   "execution_count": null,
   "metadata": {},
   "outputs": [],
   "source": [
    "idx = random.randint(0,Npart-1)\n",
    "idx"
   ]
  },
  {
   "cell_type": "code",
   "execution_count": null,
   "metadata": {},
   "outputs": [],
   "source": [
    "prev_position = np.copy(positions[idx])\n",
    "prev_position"
   ]
  },
  {
   "cell_type": "code",
   "execution_count": null,
   "metadata": {},
   "outputs": [],
   "source": [
    "Wo1 = k * np.exp(-beta * utility.energy_of_particle(idx,0,positions,box_length))\n",
    "Wo1"
   ]
  },
  {
   "cell_type": "code",
   "execution_count": null,
   "metadata": {},
   "outputs": [],
   "source": [
    "Wo2 = np.exp(-beta * utility.energy_of_particle(idx,1,positions,box_length))\n",
    "for i in range(k-1):\n",
    "    r = utility.generate_random_unit_vector() * bond_length\n",
    "    positions[idx][1] = positions[idx][0] + r\n",
    "    Wo2 += np.exp(-beta * utility.energy_of_particle(idx,1,positions,box_length))\n",
    "    \n",
    "Wo = Wo1 * Wo2\n",
    "print(Wo)"
   ]
  },
  {
   "cell_type": "code",
   "execution_count": null,
   "metadata": {},
   "outputs": [],
   "source": [
    "positions[idx][0] = np.random.rand(3)* box_length\n",
    "positions[idx][0]"
   ]
  },
  {
   "cell_type": "code",
   "execution_count": null,
   "metadata": {},
   "outputs": [],
   "source": [
    "Wn1 =  k * np.exp(-beta * utility.energy_of_particle(idx,0,positions,box_length))\n",
    "Wn1"
   ]
  },
  {
   "cell_type": "code",
   "execution_count": null,
   "metadata": {},
   "outputs": [],
   "source": [
    "#select a random_chain\n",
    "    global accepted_steps\n",
    "    idx = random.randint(0,Npart-1)\n",
    "    #find rosenbluth factor for previous configuration\n",
    "    prev_position = np.copy(positions[idx])\n",
    "    Wo1 = k * np.exp(-beta * utility.energy_of_particle(idx,0,positions,box_length))\n",
    "    Wo2 = np.exp(-beta * utility.energy_of_particle(idx,1,positions,box_length))\n",
    "    for i in range(k-1):\n",
    "        r = utility.generate_random_unit_vector() * bond_length\n",
    "        positions[idx][1] = positions[idx][0] + r\n",
    "        Wo2 += np.exp(-beta * utility.energy_of_particle(idx,1,positions,box_length))\n",
    "    \n",
    "    Wo = Wo1 * Wo2\n",
    "    #find rosenbluth factor for new configuration\n",
    "    #choose a random postion for first atom\n",
    "    positions[idx][0] = np.random.rand(3)* box_length\n",
    "    Wn1 =  k * np.exp(-beta * utility.energy_of_particle(idx,0,positions,box_length))\n",
    "    second_atom_pos = []\n",
    "    Wn2 = []\n",
    "    for i in range(k):\n",
    "        r = utility.generate_random_unit_vector()* bond_length\n",
    "        positions[idx][1] = positions[idx][0] + r\n",
    "        second_atom_pos.append(positions[idx][1])\n",
    "        Wn2.append(np.exp(-beta * utility.energy_of_particle(idx,1,positions,box_length)))\n",
    "\n",
    "    Wn2_sum = sum(Wn2)\n",
    "\n",
    "    #select a configuration i with probaility Wn2[i]/Wn2_sum\n",
    "    cum_Wn2 = Wn2[0]\n",
    "    r_Wn2_sum = random.random()*Wn2_sum\n",
    "    i = 0\n",
    "    while cum_Wn2 < r_Wn2_sum:\n",
    "        i +=1\n",
    "        cum_Wn2 += Wn2[i]\n",
    "    print(i, Wn2[i])\n",
    "    Wn = Wn1 * Wn2_sum\n",
    "    #replace position of second atom with selected second atom configuration \n",
    "    positions[idx][1] = second_atom_pos[i]\n",
    "    print(Wo, \" \", Wn)\n",
    "    if Wn < Wo and random.random() > Wn/Wo:\n",
    "        #not accept\n",
    "        positions[idx] = prev_position   \n",
    "    else :\n",
    "        accepted_steps += 1\n",
    "        if debug:\n",
    "            print(\"new move accepted\")\n",
    "    \n",
    "    return \n"
   ]
  },
  {
   "cell_type": "code",
   "execution_count": null,
   "metadata": {},
   "outputs": [],
   "source": [
    "import init\n",
    "import utility\n",
    "import visualize\n",
    "import random\n",
    "import numpy as np\n",
    "\n",
    "#parameters\n",
    "rho = 0.01\n",
    "Npart = 108\n",
    "box_length = (Npart / rho) ** (1/3)\n",
    "# print(box_length)\n",
    "bond_length = 2.353  #angstrom\n",
    "\n",
    "k = 30\n",
    "temp = 300 #kelvin\n",
    "beta = 1\n",
    "\n",
    "debug = True\n",
    "accepted_steps = 0\n",
    "\n",
    "positions = init.init_system(box_length, Npart)\n",
    "\n",
    "def check(positions):\n",
    "    for pos in positions:\n",
    "        if np.linalg.norm(pos[0] - pos[1]) > bond_length + 0.01:\n",
    "            return False\n",
    "    \n",
    "    return True\n",
    "\n",
    "def get_minimum_distance(positions, idx1, idx2):\n",
    "    min_len = 1000\n",
    "    for i in range(len(positions)):\n",
    "        if idx1 !=i:\n",
    "            for pos in positions[i]:\n",
    "                min_len = min(min_len, utility.pbc(np.linalg.norm(pos - positions[idx1][idx2]),box_length))\n",
    "    \n",
    "    return min_len\n",
    "\n",
    "def CBMC_step(positions, Npart):\n",
    "    #select a random_chain\n",
    "    global accepted_steps\n",
    "    idx = random.randint(0,Npart-1)\n",
    "    #find rosenbluth factor for previous configuration\n",
    "    prev_position = np.copy(positions[idx])\n",
    "    Wo1 = k * np.exp(-beta * utility.energy_of_particle(idx,0,positions,box_length))\n",
    "    Wo2 = np.exp(-beta * utility.energy_of_particle(idx,1,positions,box_length))\n",
    "    for i in range(k-1):\n",
    "        r = utility.generate_random_unit_vector() * bond_length\n",
    "        positions[idx][1] = positions[idx][0] + r\n",
    "        Wo2 += np.exp(-beta * utility.energy_of_particle(idx,1,positions,box_length))\n",
    "    # print(\"Wo2\" ,Wo2)\n",
    "    Wo = Wo1 * Wo2\n",
    "    #find rosenbluth factor for new configuration\n",
    "    #choose a random postion for first atom\n",
    "    positions[idx][0] = np.random.rand(3)* box_length\n",
    "    Wn1 =  k * np.exp(-beta * utility.energy_of_particle(idx,0,positions,box_length))\n",
    "    second_atom_pos = []\n",
    "    Wn2 = []\n",
    "    for i in range(k):\n",
    "        r = utility.generate_random_unit_vector()* bond_length\n",
    "        positions[idx][1] = positions[idx][0] + r\n",
    "        second_atom_pos.append(positions[idx][1])\n",
    "        Wn2.append(np.exp(-beta * utility.energy_of_particle(idx,1,positions,box_length)))\n",
    "        # if get_minimum_distance(positions,idx,1) <1 and np.exp(-beta * utility.energy_of_particle(idx,1,positions,box_length)) >1:\n",
    "            # print(Wn2[i],np.exp(-beta * utility.energy_of_particle(idx,1,positions,box_length)) )\n",
    "\n",
    "    Wn2_sum = sum(Wn2)\n",
    "    # print(Wn2_sum)\n",
    "    #select a configuration i with probaility Wn2[i]/Wn2_sum\n",
    "    cum_Wn2 = Wn2[0]\n",
    "    r_Wn2_sum = random.random()*Wn2_sum\n",
    "    i = 0\n",
    "    while cum_Wn2 < r_Wn2_sum:\n",
    "        i +=1\n",
    "        cum_Wn2 += Wn2[i]\n",
    "    # print(i, Wn2[i])\n",
    "    Wn = Wn1 * Wn2_sum\n",
    "    #replace position of second atom with selected second atom configuration \n",
    "    positions[idx][1] = second_atom_pos[i]\n",
    "    # print(Wo, \" \", Wn)\n",
    "    if Wn < Wo and random.random() > Wn/Wo:\n",
    "        #not accept\n",
    "        positions[idx] = prev_position   \n",
    "    else :\n",
    "        accepted_steps += 1\n",
    "        if debug:\n",
    "            print(\"new move accepted\")\n",
    "            print(Wn2[i], Wn1,Wn2[i]/Wn2_sum, get_minimum_distance(positions,idx,0),get_minimum_distance(positions,idx,1))\n",
    "            if get_minimum_distance(positions,idx,1) < 1:\n",
    "                print(np.exp(-1*utility.energy_of_particle(idx,1,positions,box_length)))\n",
    "                # print(Wn2)\n",
    "                \n",
    "                # return True\n",
    "    \n",
    "    return False\n",
    "\n",
    "total_energy_sum = 0\n",
    "\n",
    "for i in range(100):\n",
    "    # visualize.visualize(positions)\n",
    "    energy = utility.total_energy(positions,box_length)\n",
    "    # print(energy)\n",
    "    total_energy_sum += energy\n",
    "    if CBMC_step(positions,Npart) == True:\n",
    "        break\n",
    "\n",
    "\n",
    "print(f\"avg_energy {total_energy_sum / 100}\")\n",
    "print(f\"Acceptance percentage {accepted_steps/1}\")\n",
    "visualize.visualize(positions)\n"
   ]
  },
  {
   "cell_type": "code",
   "execution_count": null,
   "metadata": {},
   "outputs": [],
   "source": [
    "a = [5,3,2,1,4]\n",
    "b = sum(a)\n",
    "b\n",
    "a[1]"
   ]
  },
  {
   "cell_type": "code",
   "execution_count": null,
   "metadata": {},
   "outputs": [],
   "source": [
    "\n",
    "global accepted_steps\n",
    "idx = random.randint(0,Npart-1)\n",
    "#find rosenbluth factor for previous configuration\n",
    "prev_position = np.copy(positions[idx])\n",
    "Wo1 = k * np.exp(-beta * utility.energy_of_particle(idx,0,positions,box_length))\n",
    "Wo2 = np.exp(-beta * utility.energy_of_particle(idx,1,positions,box_length))\n",
    "for i in range(k-1):\n",
    "    r = utility.generate_random_unit_vector() * bond_length\n",
    "    positions[idx][1] = positions[idx][0] + r\n",
    "    Wo2 += np.exp(-beta * utility.energy_of_particle(idx,1,positions,box_length))\n",
    "# print(\"Wo2\" ,Wo2)\n",
    "Wo = Wo1 * Wo2\n",
    "#find rosenbluth factor for new configuration\n",
    "#choose a random postion for first atom\n",
    "positions[idx][0] = np.random.rand(3)* box_length\n",
    "Wn1 =  k * np.exp(-beta * utility.energy_of_particle(idx,0,positions,box_length))\n",
    "second_atom_pos = []\n",
    "Wn2 = []\n",
    "for i in range(k):\n",
    "    r = utility.generate_random_unit_vector()* bond_length\n",
    "    positions[idx][1] = positions[idx][0] + r\n",
    "    second_atom_pos.append(positions[idx][1])\n",
    "    Wn2.append(np.exp(-beta * utility.energy_of_particle(idx,1,positions,box_length)))\n",
    "    # if get_minimum_distance(positions,idx,1) <1 and np.exp(-beta * utility.energy_of_particle(idx,1,positions,box_length)) >1:\n",
    "        # print(Wn2[i],np.exp(-beta * utility.energy_of_particle(idx,1,positions,box_length)) )\n",
    "\n",
    "Wn2_sum = sum(Wn2)\n",
    "# print(Wn2_sum)\n",
    "#select a configuration i with probaility Wn2[i]/Wn2_sum\n",
    "cum_Wn2 = Wn2[0]\n",
    "r_Wn2_sum = random.random()*Wn2_sum\n",
    "i = 0\n",
    "while cum_Wn2 < r_Wn2_sum:\n",
    "    i +=1\n",
    "    cum_Wn2 += Wn2[i]\n",
    "# print(i, Wn2[i])\n",
    "Wn = Wn1 * Wn2_sum\n",
    "#replace position of second atom with selected second atom configuration \n",
    "positions[idx][1] = second_atom_pos[i]\n",
    "# print(Wo, \" \", Wn)\n",
    "if Wn < Wo and random.random() > Wn/Wo:\n",
    "    #not accept\n",
    "    positions[idx] = prev_position   \n",
    "else :\n",
    "    accepted_steps += 1\n",
    "    if debug:\n",
    "        print(\"new move accepted\")\n",
    "        print(Wn2[i], Wn1,Wn2[i]/Wn2_sum, get_minimum_distance(positions,idx,0),get_minimum_distance(positions,idx,1))\n",
    "        if get_minimum_distance(positions,idx,1) < 1:\n",
    "            print(np.exp(-1*utility.energy_of_particle(idx,1,positions,box_length)))\n",
    "            # print(Wn2)\n",
    "            \n",
    "            # return True"
   ]
  },
  {
   "cell_type": "code",
   "execution_count": null,
   "metadata": {},
   "outputs": [],
   "source": [
    "a= np.array((3,1))\n",
    "c = []\n",
    "for i in range(10):\n",
    "    a +=1\n",
    "    c.append(a)\n",
    "print(c)"
   ]
  },
  {
   "cell_type": "code",
   "execution_count": null,
   "metadata": {},
   "outputs": [],
   "source": [
    "import visualize\n",
    "\n",
    "visualize.plot_energy_from_file(\"energy.txt\")"
   ]
  },
  {
   "cell_type": "code",
   "execution_count": null,
   "metadata": {},
   "outputs": [],
   "source": [
    "import matplotlib.pyplot as plt\n",
    "with open(\"energy.txt\",'r') as f:\n",
    "    energy = [float(line.strip()) for line in f]\n",
    "    steps = [ int(100 * i) for i in range(len(energy))]\n",
    "    plt.plot(steps, energy)\n",
    "    plt.ylabel(\"Energy (KbT)\")\n",
    "    plt.xlabel(\"Number of steps\")\n",
    "    plt.grid()\n",
    "    plt.show()"
   ]
  },
  {
   "cell_type": "code",
   "execution_count": null,
   "metadata": {},
   "outputs": [],
   "source": [
    "np_positions = np.load('positions.npy', allow_pickle=True)\n"
   ]
  },
  {
   "cell_type": "code",
   "execution_count": null,
   "metadata": {},
   "outputs": [],
   "source": [
    "positions = []\n",
    "for mol_pos in np_positions:\n",
    "    positions.append([mol_pos[0],mol_pos[1]])"
   ]
  },
  {
   "cell_type": "code",
   "execution_count": null,
   "metadata": {},
   "outputs": [],
   "source": [
    "utility.total_energy(positions,box_length)"
   ]
  },
  {
   "cell_type": "code",
   "execution_count": null,
   "metadata": {},
   "outputs": [],
   "source": [
    "import init\n",
    "from config import *\n",
    "import utility\n",
    "positions = init.init_system(box_length,Npart)"
   ]
  },
  {
   "cell_type": "markdown",
   "metadata": {},
   "source": []
  },
  {
   "cell_type": "code",
   "execution_count": null,
   "metadata": {},
   "outputs": [],
   "source": [
    "len(positions)"
   ]
  },
  {
   "cell_type": "code",
   "execution_count": null,
   "metadata": {},
   "outputs": [],
   "source": [
    "import visualize, utility\n",
    "visualize.visualize(positions)\n",
    "utility.total_energy(positions,box_length)"
   ]
  },
  {
   "cell_type": "code",
   "execution_count": null,
   "metadata": {},
   "outputs": [],
   "source": [
    "from ethane_cbmc import *\n",
    "# from tempfile import TemporaryFile\n",
    "# position_file = TemporaryFile()\n",
    "\n",
    "# positions = init.init_system(box_length, Npart)\n",
    "# positions = utility.read_positions_from_file(\"positions.npy\")\n",
    "\n",
    "# energy_file = open(\"energy.txt\",'a' )\n",
    "\n",
    "for i in range(nsteps):\n",
    "    # visualize.visualize(positions)\n",
    "    energy = utility.total_energy(positions,box_length)\n",
    "    print(f\"Energy of the system at step {i} is: {energy}\")\n",
    "    # if i%write_interval == 0:\n",
    "        # energy_file.write(str(energy)+\"\\n\")\n",
    "    positions = CBMC_step(positions,Npart)\n",
    "\n",
    "# np.save('positions.npy', np.array(positions, dtype=object), allow_pickle=True)\n"
   ]
  },
  {
   "cell_type": "code",
   "execution_count": null,
   "metadata": {},
   "outputs": [],
   "source": [
    "positions_list = [init.init_system(box_length,Npart),init.init_system(box_length,Npart)]"
   ]
  },
  {
   "cell_type": "code",
   "execution_count": null,
   "metadata": {},
   "outputs": [],
   "source": []
  },
  {
   "cell_type": "code",
   "execution_count": null,
   "metadata": {},
   "outputs": [],
   "source": [
    "import numpy as np\n",
    "import matplotlib.pyplot as plt\n",
    "from matplotlib.animation import FuncAnimation, PillowWriter\n",
    "\n",
    "def animate(i):\n",
    "    # fig = plt.figure()\n",
    "    ax.cla()\n",
    "    positions = positions_list[i]\n",
    "    for pos in positions:\n",
    "        ax.plot([pos[0][0],pos[1][0]],[pos[0][1],pos[1][1]],\n",
    "        [pos[0][2],pos[1][2]], 'g')\n",
    "        ax.scatter3D([pos[0][0]],[pos[0][1]], [pos[0][2]], color = 'red')\n",
    "        ax.scatter3D([pos[1][0]],[pos[1][1]], [pos[1][2]], color = 'blue')\n",
    "    \n",
    "\n",
    "num_plots = (len(positions_list))\n",
    "fig = plt.figure(figsize=(20,20))\n",
    "ax = plt.axes(projection='3d')\n",
    "ani = FuncAnimation(fig, animate, frames=num_plots, interval=200)\n",
    "\n",
    "writer = PillowWriter(fps=1)\n",
    "ani.save('plots.gif', writer=writer)\n"
   ]
  },
  {
   "cell_type": "code",
   "execution_count": null,
   "metadata": {},
   "outputs": [],
   "source": [
    "import init\n",
    "import visualize\n",
    "import utility\n",
    "import numpy as np\n",
    "with open('nvt.gro','r') as f:\n",
    "    lines = [line for line in f]\n",
    "    positions = []\n",
    "    for i in range(Npart):\n",
    "        l1 = lines[2*i+2].split()\n",
    "        l2 = lines[2*i+3].split()\n",
    "        mol_pos_1 = np.array([l1[3],l1[4],l1[5]]).astype(float)\n",
    "        mol_pos_2 = np.array([l2[3],l2[4],l2[5]]).astype(float)\n",
    "        positions.append([mol_pos_1,mol_pos_2])\n",
    "\n",
    "positions"
   ]
  },
  {
   "cell_type": "code",
   "execution_count": null,
   "metadata": {},
   "outputs": [],
   "source": [
    "lines"
   ]
  },
  {
   "cell_type": "code",
   "execution_count": null,
   "metadata": {},
   "outputs": [],
   "source": [
    "from config import *\n",
    "visualize.visualize(positions)"
   ]
  },
  {
   "cell_type": "code",
   "execution_count": null,
   "metadata": {},
   "outputs": [],
   "source": [
    "utility.total_energy(positions,2.2)"
   ]
  },
  {
   "cell_type": "code",
   "execution_count": 1,
   "metadata": {},
   "outputs": [],
   "source": [
    "import init\n",
    "import visualize\n",
    "import utility\n",
    "import numpy as np\n",
    "positions = utility.read_positions_from_gromacs_file('nvt.gro')"
   ]
  },
  {
   "cell_type": "code",
   "execution_count": 2,
   "metadata": {},
   "outputs": [
    {
     "data": {
      "text/plain": [
       "[[array([1.838, 0.353, 0.604]), array([1.827, 0.438, 0.481])],\n",
       " [array([1.578, 0.156, 0.2  ]), array([1.51 , 0.254, 0.291])],\n",
       " [array([1.461, 1.652, 1.732]), array([1.316, 1.666, 1.795])],\n",
       " [array([2.132, 0.538, 1.558]), array([2.074, 0.401, 1.549])],\n",
       " [array([0.655, 1.205, 0.166]), array([0.586, 1.328, 0.211])],\n",
       " [array([1.937, 2.116, 0.061]), array([1.861, 2.035, 0.165])],\n",
       " [array([0.085, 0.992, 1.625]), array([2.199, 0.882, 1.564])],\n",
       " [array([1.166, 0.398, 2.184]), array([1.237, 0.473, 2.072])],\n",
       " [array([0.976, 1.868, 0.18 ]), array([1.09 , 1.781, 0.113])],\n",
       " [array([0.976, 0.715, 0.248]), array([0.999, 0.802, 0.371])],\n",
       " [array([0.726, 0.185, 0.976]), array([0.618, 0.221, 1.076])],\n",
       " [array([0.165, 2.154, 2.08 ]), array([0.169, 0.064, 2.181])],\n",
       " [array([0.307, 0.282, 1.827]), array([0.41 , 0.372, 1.764])],\n",
       " [array([0.607, 2.078, 1.169]), array([0.485, 2.1  , 1.09 ])],\n",
       " [array([1.12 , 2.094, 1.562]), array([0.984, 2.076, 1.502])],\n",
       " [array([2.109, 2.152, 0.424]), array([2.04 , 0.086, 0.401])],\n",
       " [array([0.045, 1.88 , 0.176]), array([2.147, 1.77 , 0.226])],\n",
       " [array([1.629, 1.471, 0.639]), array([1.545, 1.545, 0.748])],\n",
       " [array([0.063, 0.479, 0.337]), array([0.009, 0.571, 0.231])],\n",
       " [array([1.343, 0.121, 1.748]), array([1.241, 0.138, 1.862])],\n",
       " [array([0.919, 1.529, 0.571]), array([0.793, 1.474, 0.631])],\n",
       " [array([0.279, 0.674, 2.053]), array([0.409, 0.734, 2.113])],\n",
       " [array([1.429, 0.42 , 1.252]), array([1.379, 0.431, 1.397])],\n",
       " [array([0.721, 1.078, 0.573]), array([0.673, 0.971, 0.474])],\n",
       " [array([1.3  , 0.977, 1.166]), array([1.366, 0.952, 1.302])],\n",
       " [array([1.992, 1.304, 0.431]), array([2.015, 1.331, 0.585])],\n",
       " [array([0.358, 1.866, 0.581]), array([0.343, 1.917, 0.723])],\n",
       " [array([1.271, 1.661, 0.429]), array([1.315, 1.512, 0.4  ])],\n",
       " [array([1.609, 1.88 , 1.181]), array([1.576, 2.023, 1.14 ])],\n",
       " [array([1.165, 0.004, 1.151]), array([1.28 , 0.094, 1.115])],\n",
       " [array([0.162, 0.177, 1.007]), array([0.007, 0.195, 1.005])],\n",
       " [array([2.052, 2.112, 1.891]), array([1.995, 0.01 , 1.794])],\n",
       " [array([0.761, 1.914, 0.662]), array([0.733, 2.   , 0.787])],\n",
       " [array([0.899, 1.106, 0.967]), array([1.01 , 1.194, 0.912])],\n",
       " [array([0.293, 0.94 , 0.273]), array([0.345, 1.035, 0.166])],\n",
       " [array([0.351, 2.137, 0.295]), array([0.452, 2.198, 0.397])],\n",
       " [array([1.633, 2.013, 0.543]), array([1.506, 1.947, 0.599])],\n",
       " [array([1.719, 1.095, 0.241]), array([1.688, 1.224, 0.159])],\n",
       " [array([0.826, 0.158, 1.698]), array([0.761, 0.294, 1.727])],\n",
       " [array([1.875, 0.637, 2.186]), array([1.903, 0.743, 0.1  ])],\n",
       " [array([1.014, 0.723, 1.138]), array([1.033, 0.749, 1.287])],\n",
       " [array([0.893, 0.223, 0.642]), array([0.879, 0.213, 0.493])],\n",
       " [array([1.412, 0.817, 1.788]), array([1.384, 0.748, 1.647])],\n",
       " [array([0.212, 0.769, 0.736]), array([0.335, 0.755, 0.649])],\n",
       " [array([1.002, 0.333, 1.2  ]), array([0.927, 0.331, 1.33 ])],\n",
       " [array([0.426, 0.391, 0.262]), array([0.574, 0.373, 0.302])],\n",
       " [array([0.824, 0.92 , 2.02 ]), array([0.855, 0.896, 2.162])],\n",
       " [array([2.01 , 0.812, 1.845]), array([1.869, 0.869, 1.811])],\n",
       " [array([1.771, 0.567, 1.013]), array([1.839, 0.687, 0.953])],\n",
       " [array([1.912, 1.748, 2.112]), array([1.795, 1.791, 2.025])],\n",
       " [array([0.663, 0.848, 1.504]), array([0.567, 0.936, 1.579])],\n",
       " [array([1.001, 0.056, 0.017]), array([1.043, 0.074, 0.165])],\n",
       " [array([1.43 , 2.017, 0.04 ]), array([1.33 , 2.017, 2.126])],\n",
       " [array([0.805, 0.453, 0.008]), array([0.782, 0.447, 2.065])],\n",
       " [array([0.135, 1.124, 0.793]), array([0.194, 1.259, 0.848])],\n",
       " [array([0.629, 0.049, 0.   ]), array([0.603, 2.107, 0.031])],\n",
       " [array([0.622, 0.789, 1.056]), array([0.549, 0.686, 0.955])],\n",
       " [array([1.143, 1.593, 1.362]), array([1.139, 1.714, 1.456])],\n",
       " [array([1.738, 1.303, 1.865]), array([1.812, 1.331, 1.996])],\n",
       " [array([1.999, 1.182, 1.023]), array([1.996, 1.032, 0.969])],\n",
       " [array([0.536, 2.132, 1.839]), array([0.484, 2.014, 1.753])],\n",
       " [array([1.558, 1.314, 1.489]), array([1.454, 1.3  , 1.602])],\n",
       " [array([1.817, 0.922, 1.319]), array([1.938, 0.836, 1.293])],\n",
       " [array([0.936, 0.657, 1.691]), array([1.002, 0.706, 1.817])],\n",
       " [array([0.557, 1.32 , 1.208]), array([0.528, 1.237, 1.08 ])],\n",
       " [array([1.699, 0.458, 1.789]), array([1.659, 0.475, 1.643])],\n",
       " [array([1.938, 1.796, 0.734]), array([1.961, 1.913, 0.831])],\n",
       " [array([0.235, 0.182, 0.653]), array([0.261, 0.335, 0.675])],\n",
       " [array([2.192, 0.363, 2.055]), array([2.077, 0.258, 2.059])],\n",
       " [array([1.471, 1.167, 0.827]), array([1.544, 1.035, 0.851])],\n",
       " [array([0.075, 1.726, 1.996]), array([0.094, 1.579, 1.945])],\n",
       " [array([0.14 , 0.592, 1.105]), array([0.07 , 0.485, 1.202])],\n",
       " [array([0.669, 1.653, 0.355]), array([0.57 , 1.749, 0.291])],\n",
       " [array([1.704, 0.045, 2.015]), array([1.651, 0.185, 2.03 ])],\n",
       " [array([1.143, 1.246, 1.791]), array([1.187, 1.287, 1.931])],\n",
       " [array([1.866, 1.693, 1.525]), array([1.952, 1.661, 1.642])],\n",
       " [array([0.919, 1.747, 1.911]), array([0.955, 1.892, 1.876])],\n",
       " [array([1.407, 0.679, 0.846]), array([1.464, 0.695, 0.706])],\n",
       " [array([0.195, 1.359, 1.626]), array([0.342, 1.343, 1.582])],\n",
       " [array([1.448, 1.463, 2.161]), array([1.388, 1.594, 0.003])],\n",
       " [array([0.033, 1.839, 1.444]), array([0.131, 1.736, 1.496])],\n",
       " [array([1.249, 1.782, 0.801]), array([1.167, 1.823, 0.922])],\n",
       " [array([1.622, 1.696, 0.297]), array([1.72 , 1.619, 0.217])],\n",
       " [array([0.72 , 1.704, 1.058]), array([0.849, 1.639, 1.104])],\n",
       " [array([0.358, 0.09 , 1.463]), array([0.247, 0.143, 1.369])],\n",
       " [array([0.418, 0.54 , 1.434]), array([0.541, 0.451, 1.385])],\n",
       " [array([1.881, 0.884, 0.605]), array([1.773, 0.854, 0.502])],\n",
       " [array([1.529, 0.198, 0.904]), array([1.635, 0.088, 0.885])],\n",
       " [array([0.539, 1.143, 1.997]), array([0.414, 1.078, 1.941])],\n",
       " [array([0.606, 1.701, 1.449]), array([0.503, 1.811, 1.398])],\n",
       " [array([1.17 , 0.483, 0.519]), array([1.247, 0.401, 0.62 ])],\n",
       " [array([0.141, 1.731, 1.047]), array([0.279, 1.769, 1.106])],\n",
       " [array([0.418, 1.373, 0.53 ]), array([0.314, 1.272, 0.487])],\n",
       " [array([0.811, 0.694, 0.668]), array([0.77, 0.57, 0.58])],\n",
       " [array([1.028, 1.093, 1.462]), array([0.996, 1.169, 1.334])],\n",
       " [array([1.096, 2.007, 0.535]), array([1.079, 2.131, 0.618])],\n",
       " [array([1.797, 1.501, 1.14 ]), array([1.934, 1.518, 1.069])],\n",
       " [array([2.187, 1.152, 2.096]), array([2.11 , 1.055, 2.178])],\n",
       " [array([0.276, 1.055, 1.303]), array([0.186, 1.134, 1.204])],\n",
       " [array([1.006, 1.427, 0.201]), array([1.016, 1.417, 0.049])],\n",
       " [array([1.794, 0.097, 1.335]), array([1.677, 0.154, 1.413])],\n",
       " [array([1.233, 0.986, 0.587]), array([1.299, 1.024, 0.451])],\n",
       " [array([1.256, 1.48 , 1.034]), array([1.341, 1.384, 1.113])],\n",
       " [array([1.57 , 2.047, 1.787]), array([1.594, 1.987, 1.646])],\n",
       " [array([0.438, 1.531, 1.934]), array([0.573, 1.592, 1.894])],\n",
       " [array([2.112, 1.433, 1.415]), array([2.052, 1.292, 1.382])],\n",
       " [array([0.242, 1.413, 0.074]), array([0.285, 1.559, 0.071])],\n",
       " [array([0.865, 1.385, 1.686]), array([0.757, 1.278, 1.677])]]"
      ]
     },
     "execution_count": 2,
     "metadata": {},
     "output_type": "execute_result"
    }
   ],
   "source": [
    "positions"
   ]
  },
  {
   "cell_type": "code",
   "execution_count": 3,
   "metadata": {},
   "outputs": [],
   "source": [
    "dx, dy, dz = positions[0][0] - positions[0][1]"
   ]
  },
  {
   "cell_type": "code",
   "execution_count": 6,
   "metadata": {},
   "outputs": [
    {
     "data": {
      "text/plain": [
       "0.01100000000000012"
      ]
     },
     "execution_count": 6,
     "metadata": {},
     "output_type": "execute_result"
    }
   ],
   "source": [
    "dx"
   ]
  },
  {
   "cell_type": "code",
   "execution_count": 7,
   "metadata": {},
   "outputs": [
    {
     "data": {
      "text/plain": [
       "array([1.838, 0.353, 0.604])"
      ]
     },
     "execution_count": 7,
     "metadata": {},
     "output_type": "execute_result"
    }
   ],
   "source": [
    "positions[0][0]"
   ]
  },
  {
   "cell_type": "code",
   "execution_count": 8,
   "metadata": {},
   "outputs": [
    {
     "data": {
      "text/plain": [
       "array([1.827, 0.438, 0.481])"
      ]
     },
     "execution_count": 8,
     "metadata": {},
     "output_type": "execute_result"
    }
   ],
   "source": [
    "positions[0][1]"
   ]
  },
  {
   "cell_type": "code",
   "execution_count": 3,
   "metadata": {},
   "outputs": [
    {
     "ename": "TypeError",
     "evalue": "lj_potential() missing 1 required positional argument: 'box_length'",
     "output_type": "error",
     "traceback": [
      "\u001b[0;31m---------------------------------------------------------------------------\u001b[0m",
      "\u001b[0;31mTypeError\u001b[0m                                 Traceback (most recent call last)",
      "\u001b[0;32m/tmp/ipykernel_5115/3611327228.py\u001b[0m in \u001b[0;36m<cell line: 2>\u001b[0;34m()\u001b[0m\n\u001b[1;32m      1\u001b[0m \u001b[0;32mfrom\u001b[0m \u001b[0mconfig\u001b[0m \u001b[0;32mimport\u001b[0m \u001b[0;34m*\u001b[0m\u001b[0;34m\u001b[0m\u001b[0;34m\u001b[0m\u001b[0m\n\u001b[0;32m----> 2\u001b[0;31m \u001b[0mutility\u001b[0m\u001b[0;34m.\u001b[0m\u001b[0mtotal_energy\u001b[0m\u001b[0;34m(\u001b[0m\u001b[0mpositions\u001b[0m\u001b[0;34m,\u001b[0m\u001b[0mbox_length\u001b[0m\u001b[0;34m)\u001b[0m\u001b[0;34m\u001b[0m\u001b[0;34m\u001b[0m\u001b[0m\n\u001b[0m",
      "\u001b[0;32m~/CBMC_CHAIN_SIMULATION/utility.py\u001b[0m in \u001b[0;36mtotal_energy\u001b[0;34m(positions, box_length)\u001b[0m\n\u001b[1;32m     38\u001b[0m     \u001b[0;32mfor\u001b[0m \u001b[0mi\u001b[0m \u001b[0;32min\u001b[0m \u001b[0mrange\u001b[0m\u001b[0;34m(\u001b[0m\u001b[0mlen\u001b[0m\u001b[0;34m(\u001b[0m\u001b[0mpositions\u001b[0m\u001b[0;34m)\u001b[0m\u001b[0;34m)\u001b[0m\u001b[0;34m:\u001b[0m\u001b[0;34m\u001b[0m\u001b[0;34m\u001b[0m\u001b[0m\n\u001b[1;32m     39\u001b[0m         \u001b[0;32mfor\u001b[0m \u001b[0mj\u001b[0m \u001b[0;32min\u001b[0m \u001b[0mrange\u001b[0m\u001b[0;34m(\u001b[0m\u001b[0mi\u001b[0m\u001b[0;34m+\u001b[0m\u001b[0;36m1\u001b[0m\u001b[0;34m,\u001b[0m \u001b[0mlen\u001b[0m\u001b[0;34m(\u001b[0m\u001b[0mpositions\u001b[0m\u001b[0;34m)\u001b[0m\u001b[0;34m)\u001b[0m\u001b[0;34m:\u001b[0m\u001b[0;34m\u001b[0m\u001b[0;34m\u001b[0m\u001b[0m\n\u001b[0;32m---> 40\u001b[0;31m             \u001b[0menergy\u001b[0m \u001b[0;34m+=\u001b[0m \u001b[0mfind_potential_between_alkanes\u001b[0m\u001b[0;34m(\u001b[0m\u001b[0mpositions\u001b[0m\u001b[0;34m[\u001b[0m\u001b[0mi\u001b[0m\u001b[0;34m]\u001b[0m\u001b[0;34m,\u001b[0m \u001b[0mpositions\u001b[0m\u001b[0;34m[\u001b[0m\u001b[0mj\u001b[0m\u001b[0;34m]\u001b[0m\u001b[0;34m,\u001b[0m\u001b[0mbox_length\u001b[0m\u001b[0;34m)\u001b[0m\u001b[0;34m\u001b[0m\u001b[0;34m\u001b[0m\u001b[0m\n\u001b[0m\u001b[1;32m     41\u001b[0m \u001b[0;34m\u001b[0m\u001b[0m\n\u001b[1;32m     42\u001b[0m     \u001b[0;32mreturn\u001b[0m \u001b[0menergy\u001b[0m\u001b[0;34m\u001b[0m\u001b[0;34m\u001b[0m\u001b[0m\n",
      "\u001b[0;32m~/CBMC_CHAIN_SIMULATION/utility.py\u001b[0m in \u001b[0;36mfind_potential_between_alkanes\u001b[0;34m(mol_pos1, mol_pos2, box_length)\u001b[0m\n\u001b[1;32m     30\u001b[0m         \u001b[0;32mfor\u001b[0m \u001b[0matom_pos_2\u001b[0m \u001b[0;32min\u001b[0m \u001b[0mmol_pos2\u001b[0m\u001b[0;34m:\u001b[0m\u001b[0;34m\u001b[0m\u001b[0;34m\u001b[0m\u001b[0m\n\u001b[1;32m     31\u001b[0m             \u001b[0mr\u001b[0m \u001b[0;34m=\u001b[0m \u001b[0mnp\u001b[0m\u001b[0;34m.\u001b[0m\u001b[0mlinalg\u001b[0m\u001b[0;34m.\u001b[0m\u001b[0mnorm\u001b[0m\u001b[0;34m(\u001b[0m\u001b[0matom_pos_1\u001b[0m \u001b[0;34m-\u001b[0m \u001b[0matom_pos_2\u001b[0m\u001b[0;34m)\u001b[0m\u001b[0;34m\u001b[0m\u001b[0;34m\u001b[0m\u001b[0m\n\u001b[0;32m---> 32\u001b[0;31m             \u001b[0menergy\u001b[0m \u001b[0;34m+=\u001b[0m \u001b[0mlj_potential\u001b[0m\u001b[0;34m(\u001b[0m\u001b[0mr\u001b[0m\u001b[0;34m,\u001b[0m\u001b[0mbox_length\u001b[0m\u001b[0;34m)\u001b[0m\u001b[0;34m\u001b[0m\u001b[0;34m\u001b[0m\u001b[0m\n\u001b[0m\u001b[1;32m     33\u001b[0m \u001b[0;34m\u001b[0m\u001b[0m\n\u001b[1;32m     34\u001b[0m     \u001b[0;32mreturn\u001b[0m \u001b[0menergy\u001b[0m\u001b[0;34m\u001b[0m\u001b[0;34m\u001b[0m\u001b[0m\n",
      "\u001b[0;31mTypeError\u001b[0m: lj_potential() missing 1 required positional argument: 'box_length'"
     ]
    }
   ],
   "source": [
    "from config import *\n",
    "utility.total_energy(positions,box_length)"
   ]
  },
  {
   "cell_type": "code",
   "execution_count": null,
   "metadata": {},
   "outputs": [],
   "source": []
  },
  {
   "cell_type": "code",
   "execution_count": null,
   "metadata": {},
   "outputs": [],
   "source": []
  }
 ],
 "metadata": {
  "kernelspec": {
   "display_name": "Python 3",
   "language": "python",
   "name": "python3"
  },
  "language_info": {
   "codemirror_mode": {
    "name": "ipython",
    "version": 3
   },
   "file_extension": ".py",
   "mimetype": "text/x-python",
   "name": "python",
   "nbconvert_exporter": "python",
   "pygments_lexer": "ipython3",
   "version": "3.9.7"
  },
  "orig_nbformat": 4
 },
 "nbformat": 4,
 "nbformat_minor": 2
}
