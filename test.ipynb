{
 "cells": [
  {
   "cell_type": "code",
   "execution_count": null,
   "metadata": {},
   "outputs": [],
   "source": [
    "import utility\n",
    "\n",
    "utility.lj_potential(0.5,10)"
   ]
  },
  {
   "cell_type": "code",
   "execution_count": null,
   "metadata": {},
   "outputs": [],
   "source": [
    "utility.pbc(43,10)"
   ]
  },
  {
   "cell_type": "code",
   "execution_count": null,
   "metadata": {},
   "outputs": [],
   "source": [
    "import init\n",
    "#parameters\n",
    "rho = 0.01\n",
    "Npart = 108\n",
    "box_length = (Npart / rho) ** (1/3)\n",
    "# print(box_length)\n",
    "bond_length = 2.353  #angstrom\n",
    "\n",
    "k = 30\n",
    "temp = 300 #kelvin\n",
    "beta = 1\n",
    "\n",
    "debug = True\n",
    "accepted_steps = 0"
   ]
  },
  {
   "cell_type": "code",
   "execution_count": null,
   "metadata": {},
   "outputs": [],
   "source": [
    "positions = init.init_system(box_length, Npart)\n"
   ]
  },
  {
   "cell_type": "code",
   "execution_count": null,
   "metadata": {},
   "outputs": [],
   "source": [
    "positions\n",
    "import random\n",
    "import numpy as np\n"
   ]
  },
  {
   "cell_type": "code",
   "execution_count": null,
   "metadata": {},
   "outputs": [],
   "source": [
    "idx = random.randint(0,Npart-1)\n",
    "idx"
   ]
  },
  {
   "cell_type": "code",
   "execution_count": null,
   "metadata": {},
   "outputs": [],
   "source": [
    "prev_position = np.copy(positions[idx])\n",
    "prev_position"
   ]
  },
  {
   "cell_type": "code",
   "execution_count": null,
   "metadata": {},
   "outputs": [],
   "source": [
    "Wo1 = k * np.exp(-beta * utility.energy_of_particle(idx,0,positions,box_length))\n",
    "Wo1"
   ]
  },
  {
   "cell_type": "code",
   "execution_count": null,
   "metadata": {},
   "outputs": [],
   "source": [
    "Wo2 = np.exp(-beta * utility.energy_of_particle(idx,1,positions,box_length))\n",
    "for i in range(k-1):\n",
    "    r = utility.generate_random_unit_vector() * bond_length\n",
    "    positions[idx][1] = positions[idx][0] + r\n",
    "    Wo2 += np.exp(-beta * utility.energy_of_particle(idx,1,positions,box_length))\n",
    "    \n",
    "Wo = Wo1 * Wo2\n",
    "print(Wo)"
   ]
  },
  {
   "cell_type": "code",
   "execution_count": null,
   "metadata": {},
   "outputs": [],
   "source": [
    "positions[idx][0] = np.random.rand(3)* box_length\n",
    "positions[idx][0]"
   ]
  },
  {
   "cell_type": "code",
   "execution_count": null,
   "metadata": {},
   "outputs": [],
   "source": [
    "Wn1 =  k * np.exp(-beta * utility.energy_of_particle(idx,0,positions,box_length))\n",
    "Wn1"
   ]
  },
  {
   "cell_type": "code",
   "execution_count": null,
   "metadata": {},
   "outputs": [],
   "source": [
    "#select a random_chain\n",
    "    global accepted_steps\n",
    "    idx = random.randint(0,Npart-1)\n",
    "    #find rosenbluth factor for previous configuration\n",
    "    prev_position = np.copy(positions[idx])\n",
    "    Wo1 = k * np.exp(-beta * utility.energy_of_particle(idx,0,positions,box_length))\n",
    "    Wo2 = np.exp(-beta * utility.energy_of_particle(idx,1,positions,box_length))\n",
    "    for i in range(k-1):\n",
    "        r = utility.generate_random_unit_vector() * bond_length\n",
    "        positions[idx][1] = positions[idx][0] + r\n",
    "        Wo2 += np.exp(-beta * utility.energy_of_particle(idx,1,positions,box_length))\n",
    "    \n",
    "    Wo = Wo1 * Wo2\n",
    "    #find rosenbluth factor for new configuration\n",
    "    #choose a random postion for first atom\n",
    "    positions[idx][0] = np.random.rand(3)* box_length\n",
    "    Wn1 =  k * np.exp(-beta * utility.energy_of_particle(idx,0,positions,box_length))\n",
    "    second_atom_pos = []\n",
    "    Wn2 = []\n",
    "    for i in range(k):\n",
    "        r = utility.generate_random_unit_vector()* bond_length\n",
    "        positions[idx][1] = positions[idx][0] + r\n",
    "        second_atom_pos.append(positions[idx][1])\n",
    "        Wn2.append(np.exp(-beta * utility.energy_of_particle(idx,1,positions,box_length)))\n",
    "\n",
    "    Wn2_sum = sum(Wn2)\n",
    "\n",
    "    #select a configuration i with probaility Wn2[i]/Wn2_sum\n",
    "    cum_Wn2 = Wn2[0]\n",
    "    r_Wn2_sum = random.random()*Wn2_sum\n",
    "    i = 0\n",
    "    while cum_Wn2 < r_Wn2_sum:\n",
    "        i +=1\n",
    "        cum_Wn2 += Wn2[i]\n",
    "    print(i, Wn2[i])\n",
    "    Wn = Wn1 * Wn2_sum\n",
    "    #replace position of second atom with selected second atom configuration \n",
    "    positions[idx][1] = second_atom_pos[i]\n",
    "    print(Wo, \" \", Wn)\n",
    "    if Wn < Wo and random.random() > Wn/Wo:\n",
    "        #not accept\n",
    "        positions[idx] = prev_position   \n",
    "    else :\n",
    "        accepted_steps += 1\n",
    "        if debug:\n",
    "            print(\"new move accepted\")\n",
    "    \n",
    "    return \n"
   ]
  },
  {
   "cell_type": "code",
   "execution_count": null,
   "metadata": {},
   "outputs": [],
   "source": [
    "import init\n",
    "import utility\n",
    "import visualize\n",
    "import random\n",
    "import numpy as np\n",
    "\n",
    "#parameters\n",
    "rho = 0.01\n",
    "Npart = 108\n",
    "box_length = (Npart / rho) ** (1/3)\n",
    "# print(box_length)\n",
    "bond_length = 2.353  #angstrom\n",
    "\n",
    "k = 30\n",
    "temp = 300 #kelvin\n",
    "beta = 1\n",
    "\n",
    "debug = True\n",
    "accepted_steps = 0\n",
    "\n",
    "positions = init.init_system(box_length, Npart)\n",
    "\n",
    "def check(positions):\n",
    "    for pos in positions:\n",
    "        if np.linalg.norm(pos[0] - pos[1]) > bond_length + 0.01:\n",
    "            return False\n",
    "    \n",
    "    return True\n",
    "\n",
    "def get_minimum_distance(positions, idx1, idx2):\n",
    "    min_len = 1000\n",
    "    for i in range(len(positions)):\n",
    "        if idx1 !=i:\n",
    "            for pos in positions[i]:\n",
    "                min_len = min(min_len, utility.pbc(np.linalg.norm(pos - positions[idx1][idx2]),box_length))\n",
    "    \n",
    "    return min_len\n",
    "\n",
    "def CBMC_step(positions, Npart):\n",
    "    #select a random_chain\n",
    "    global accepted_steps\n",
    "    idx = random.randint(0,Npart-1)\n",
    "    #find rosenbluth factor for previous configuration\n",
    "    prev_position = np.copy(positions[idx])\n",
    "    Wo1 = k * np.exp(-beta * utility.energy_of_particle(idx,0,positions,box_length))\n",
    "    Wo2 = np.exp(-beta * utility.energy_of_particle(idx,1,positions,box_length))\n",
    "    for i in range(k-1):\n",
    "        r = utility.generate_random_unit_vector() * bond_length\n",
    "        positions[idx][1] = positions[idx][0] + r\n",
    "        Wo2 += np.exp(-beta * utility.energy_of_particle(idx,1,positions,box_length))\n",
    "    # print(\"Wo2\" ,Wo2)\n",
    "    Wo = Wo1 * Wo2\n",
    "    #find rosenbluth factor for new configuration\n",
    "    #choose a random postion for first atom\n",
    "    positions[idx][0] = np.random.rand(3)* box_length\n",
    "    Wn1 =  k * np.exp(-beta * utility.energy_of_particle(idx,0,positions,box_length))\n",
    "    second_atom_pos = []\n",
    "    Wn2 = []\n",
    "    for i in range(k):\n",
    "        r = utility.generate_random_unit_vector()* bond_length\n",
    "        positions[idx][1] = positions[idx][0] + r\n",
    "        second_atom_pos.append(positions[idx][1])\n",
    "        Wn2.append(np.exp(-beta * utility.energy_of_particle(idx,1,positions,box_length)))\n",
    "        # if get_minimum_distance(positions,idx,1) <1 and np.exp(-beta * utility.energy_of_particle(idx,1,positions,box_length)) >1:\n",
    "            # print(Wn2[i],np.exp(-beta * utility.energy_of_particle(idx,1,positions,box_length)) )\n",
    "\n",
    "    Wn2_sum = sum(Wn2)\n",
    "    # print(Wn2_sum)\n",
    "    #select a configuration i with probaility Wn2[i]/Wn2_sum\n",
    "    cum_Wn2 = Wn2[0]\n",
    "    r_Wn2_sum = random.random()*Wn2_sum\n",
    "    i = 0\n",
    "    while cum_Wn2 < r_Wn2_sum:\n",
    "        i +=1\n",
    "        cum_Wn2 += Wn2[i]\n",
    "    # print(i, Wn2[i])\n",
    "    Wn = Wn1 * Wn2_sum\n",
    "    #replace position of second atom with selected second atom configuration \n",
    "    positions[idx][1] = second_atom_pos[i]\n",
    "    # print(Wo, \" \", Wn)\n",
    "    if Wn < Wo and random.random() > Wn/Wo:\n",
    "        #not accept\n",
    "        positions[idx] = prev_position   \n",
    "    else :\n",
    "        accepted_steps += 1\n",
    "        if debug:\n",
    "            print(\"new move accepted\")\n",
    "            print(Wn2[i], Wn1,Wn2[i]/Wn2_sum, get_minimum_distance(positions,idx,0),get_minimum_distance(positions,idx,1))\n",
    "            if get_minimum_distance(positions,idx,1) < 1:\n",
    "                print(np.exp(-1*utility.energy_of_particle(idx,1,positions,box_length)))\n",
    "                # print(Wn2)\n",
    "                \n",
    "                # return True\n",
    "    \n",
    "    return False\n",
    "\n",
    "total_energy_sum = 0\n",
    "\n",
    "for i in range(100):\n",
    "    # visualize.visualize(positions)\n",
    "    energy = utility.total_energy(positions,box_length)\n",
    "    # print(energy)\n",
    "    total_energy_sum += energy\n",
    "    if CBMC_step(positions,Npart) == True:\n",
    "        break\n",
    "\n",
    "\n",
    "print(f\"avg_energy {total_energy_sum / 100}\")\n",
    "print(f\"Acceptance percentage {accepted_steps/1}\")\n",
    "visualize.visualize(positions)\n"
   ]
  },
  {
   "cell_type": "code",
   "execution_count": null,
   "metadata": {},
   "outputs": [],
   "source": [
    "a = [5,3,2,1,4]\n",
    "b = sum(a)\n",
    "b\n",
    "a[1]"
   ]
  },
  {
   "cell_type": "code",
   "execution_count": null,
   "metadata": {},
   "outputs": [],
   "source": [
    "\n",
    "global accepted_steps\n",
    "idx = random.randint(0,Npart-1)\n",
    "#find rosenbluth factor for previous configuration\n",
    "prev_position = np.copy(positions[idx])\n",
    "Wo1 = k * np.exp(-beta * utility.energy_of_particle(idx,0,positions,box_length))\n",
    "Wo2 = np.exp(-beta * utility.energy_of_particle(idx,1,positions,box_length))\n",
    "for i in range(k-1):\n",
    "    r = utility.generate_random_unit_vector() * bond_length\n",
    "    positions[idx][1] = positions[idx][0] + r\n",
    "    Wo2 += np.exp(-beta * utility.energy_of_particle(idx,1,positions,box_length))\n",
    "# print(\"Wo2\" ,Wo2)\n",
    "Wo = Wo1 * Wo2\n",
    "#find rosenbluth factor for new configuration\n",
    "#choose a random postion for first atom\n",
    "positions[idx][0] = np.random.rand(3)* box_length\n",
    "Wn1 =  k * np.exp(-beta * utility.energy_of_particle(idx,0,positions,box_length))\n",
    "second_atom_pos = []\n",
    "Wn2 = []\n",
    "for i in range(k):\n",
    "    r = utility.generate_random_unit_vector()* bond_length\n",
    "    positions[idx][1] = positions[idx][0] + r\n",
    "    second_atom_pos.append(positions[idx][1])\n",
    "    Wn2.append(np.exp(-beta * utility.energy_of_particle(idx,1,positions,box_length)))\n",
    "    # if get_minimum_distance(positions,idx,1) <1 and np.exp(-beta * utility.energy_of_particle(idx,1,positions,box_length)) >1:\n",
    "        # print(Wn2[i],np.exp(-beta * utility.energy_of_particle(idx,1,positions,box_length)) )\n",
    "\n",
    "Wn2_sum = sum(Wn2)\n",
    "# print(Wn2_sum)\n",
    "#select a configuration i with probaility Wn2[i]/Wn2_sum\n",
    "cum_Wn2 = Wn2[0]\n",
    "r_Wn2_sum = random.random()*Wn2_sum\n",
    "i = 0\n",
    "while cum_Wn2 < r_Wn2_sum:\n",
    "    i +=1\n",
    "    cum_Wn2 += Wn2[i]\n",
    "# print(i, Wn2[i])\n",
    "Wn = Wn1 * Wn2_sum\n",
    "#replace position of second atom with selected second atom configuration \n",
    "positions[idx][1] = second_atom_pos[i]\n",
    "# print(Wo, \" \", Wn)\n",
    "if Wn < Wo and random.random() > Wn/Wo:\n",
    "    #not accept\n",
    "    positions[idx] = prev_position   \n",
    "else :\n",
    "    accepted_steps += 1\n",
    "    if debug:\n",
    "        print(\"new move accepted\")\n",
    "        print(Wn2[i], Wn1,Wn2[i]/Wn2_sum, get_minimum_distance(positions,idx,0),get_minimum_distance(positions,idx,1))\n",
    "        if get_minimum_distance(positions,idx,1) < 1:\n",
    "            print(np.exp(-1*utility.energy_of_particle(idx,1,positions,box_length)))\n",
    "            # print(Wn2)\n",
    "            \n",
    "            # return True"
   ]
  },
  {
   "cell_type": "code",
   "execution_count": null,
   "metadata": {},
   "outputs": [],
   "source": [
    "a= np.array((3,1))\n",
    "c = []\n",
    "for i in range(10):\n",
    "    a +=1\n",
    "    c.append(a)\n",
    "print(c)"
   ]
  },
  {
   "cell_type": "code",
   "execution_count": null,
   "metadata": {},
   "outputs": [],
   "source": [
    "import visualize\n",
    "\n",
    "visualize.plot_energy_from_file(\"energy.txt\")"
   ]
  },
  {
   "cell_type": "code",
   "execution_count": null,
   "metadata": {},
   "outputs": [],
   "source": [
    "import matplotlib.pyplot as plt\n",
    "with open(\"energy.txt\",'r') as f:\n",
    "    energy = [float(line.strip()) for line in f]\n",
    "    steps = [ int(100 * i) for i in range(len(energy))]\n",
    "    plt.plot(steps, energy)\n",
    "    plt.ylabel(\"Energy (KbT)\")\n",
    "    plt.xlabel(\"Number of steps\")\n",
    "    plt.grid()\n",
    "    plt.show()"
   ]
  },
  {
   "cell_type": "code",
   "execution_count": null,
   "metadata": {},
   "outputs": [],
   "source": [
    "np_positions = np.load('positions.npy', allow_pickle=True)\n"
   ]
  },
  {
   "cell_type": "code",
   "execution_count": null,
   "metadata": {},
   "outputs": [],
   "source": [
    "positions = []\n",
    "for mol_pos in np_positions:\n",
    "    positions.append([mol_pos[0],mol_pos[1]])"
   ]
  },
  {
   "cell_type": "code",
   "execution_count": null,
   "metadata": {},
   "outputs": [],
   "source": [
    "utility.total_energy(positions,box_length)"
   ]
  },
  {
   "cell_type": "code",
   "execution_count": null,
   "metadata": {},
   "outputs": [],
   "source": [
    "import init\n",
    "from config import *\n",
    "import utility\n",
    "positions = init.init_system(box_length,Npart)"
   ]
  },
  {
   "cell_type": "markdown",
   "metadata": {},
   "source": []
  },
  {
   "cell_type": "code",
   "execution_count": null,
   "metadata": {},
   "outputs": [],
   "source": [
    "len(positions)"
   ]
  },
  {
   "cell_type": "code",
   "execution_count": null,
   "metadata": {},
   "outputs": [],
   "source": [
    "import visualize, utility\n",
    "visualize.visualize(positions)\n",
    "utility.total_energy(positions,box_length)"
   ]
  },
  {
   "cell_type": "code",
   "execution_count": null,
   "metadata": {},
   "outputs": [],
   "source": [
    "from ethane_cbmc import *\n",
    "# from tempfile import TemporaryFile\n",
    "# position_file = TemporaryFile()\n",
    "\n",
    "# positions = init.init_system(box_length, Npart)\n",
    "# positions = utility.read_positions_from_file(\"positions.npy\")\n",
    "\n",
    "# energy_file = open(\"energy.txt\",'a' )\n",
    "\n",
    "for i in range(nsteps):\n",
    "    # visualize.visualize(positions)\n",
    "    energy = utility.total_energy(positions,box_length)\n",
    "    print(f\"Energy of the system at step {i} is: {energy}\")\n",
    "    # if i%write_interval == 0:\n",
    "        # energy_file.write(str(energy)+\"\\n\")\n",
    "    positions = CBMC_step(positions,Npart)\n",
    "\n",
    "# np.save('positions.npy', np.array(positions, dtype=object), allow_pickle=True)\n"
   ]
  },
  {
   "cell_type": "code",
   "execution_count": null,
   "metadata": {},
   "outputs": [],
   "source": [
    "positions_list = [init.init_system(box_length,Npart),init.init_system(box_length,Npart)]"
   ]
  },
  {
   "cell_type": "code",
   "execution_count": null,
   "metadata": {},
   "outputs": [],
   "source": []
  },
  {
   "cell_type": "code",
   "execution_count": null,
   "metadata": {},
   "outputs": [],
   "source": [
    "import numpy as np\n",
    "import matplotlib.pyplot as plt\n",
    "from matplotlib.animation import FuncAnimation, PillowWriter\n",
    "\n",
    "def animate(i):\n",
    "    # fig = plt.figure()\n",
    "    ax.cla()\n",
    "    positions = positions_list[i]\n",
    "    for pos in positions:\n",
    "        ax.plot([pos[0][0],pos[1][0]],[pos[0][1],pos[1][1]],\n",
    "        [pos[0][2],pos[1][2]], 'g')\n",
    "        ax.scatter3D([pos[0][0]],[pos[0][1]], [pos[0][2]], color = 'red')\n",
    "        ax.scatter3D([pos[1][0]],[pos[1][1]], [pos[1][2]], color = 'blue')\n",
    "    \n",
    "\n",
    "num_plots = (len(positions_list))\n",
    "fig = plt.figure(figsize=(20,20))\n",
    "ax = plt.axes(projection='3d')\n",
    "ani = FuncAnimation(fig, animate, frames=num_plots, interval=200)\n",
    "\n",
    "writer = PillowWriter(fps=1)\n",
    "ani.save('plots.gif', writer=writer)\n"
   ]
  },
  {
   "cell_type": "code",
   "execution_count": null,
   "metadata": {},
   "outputs": [],
   "source": [
    "import init\n",
    "import visualize\n",
    "import utility\n",
    "import numpy as np\n",
    "with open('nvt.gro','r') as f:\n",
    "    lines = [line for line in f]\n",
    "    positions = []\n",
    "    for i in range(Npart):\n",
    "        l1 = lines[2*i+2].split()\n",
    "        l2 = lines[2*i+3].split()\n",
    "        mol_pos_1 = np.array([l1[3],l1[4],l1[5]]).astype(float)\n",
    "        mol_pos_2 = np.array([l2[3],l2[4],l2[5]]).astype(float)\n",
    "        positions.append([mol_pos_1,mol_pos_2])\n",
    "\n",
    "positions"
   ]
  },
  {
   "cell_type": "code",
   "execution_count": null,
   "metadata": {},
   "outputs": [],
   "source": [
    "lines"
   ]
  },
  {
   "cell_type": "code",
   "execution_count": null,
   "metadata": {},
   "outputs": [],
   "source": [
    "from config import *\n",
    "visualize.visualize(positions)"
   ]
  },
  {
   "cell_type": "code",
   "execution_count": null,
   "metadata": {},
   "outputs": [],
   "source": [
    "utility.total_energy(positions,2.2)"
   ]
  },
  {
   "cell_type": "code",
   "execution_count": null,
   "metadata": {},
   "outputs": [],
   "source": [
    "import init\n",
    "import visualize\n",
    "import utility\n",
    "import numpy as np\n",
    "positions = utility.read_positions_from_gromacs_file('nvt.gro')"
   ]
  },
  {
   "cell_type": "code",
   "execution_count": null,
   "metadata": {},
   "outputs": [],
   "source": [
    "positions"
   ]
  },
  {
   "cell_type": "code",
   "execution_count": null,
   "metadata": {},
   "outputs": [],
   "source": [
    "dx, dy, dz = positions[0][0] - positions[0][1]"
   ]
  },
  {
   "cell_type": "code",
   "execution_count": null,
   "metadata": {},
   "outputs": [],
   "source": [
    "dx"
   ]
  },
  {
   "cell_type": "code",
   "execution_count": null,
   "metadata": {},
   "outputs": [],
   "source": [
    "positions[0][0]"
   ]
  },
  {
   "cell_type": "code",
   "execution_count": null,
   "metadata": {},
   "outputs": [],
   "source": [
    "positions[0][1]"
   ]
  },
  {
   "cell_type": "code",
   "execution_count": null,
   "metadata": {},
   "outputs": [],
   "source": [
    "from config import *\n",
    "utility.total_energy(positions,box_length)"
   ]
  },
  {
   "cell_type": "code",
   "execution_count": null,
   "metadata": {},
   "outputs": [],
   "source": [
    "import init\n",
    "from utility import generate_random_unit_vector\n",
    "import numpy as np\n",
    "from config import *\n",
    "import random\n",
    "import utility\n"
   ]
  },
  {
   "cell_type": "code",
   "execution_count": null,
   "metadata": {},
   "outputs": [],
   "source": [
    "positions = init.init_system(box_length,108)"
   ]
  },
  {
   "cell_type": "code",
   "execution_count": null,
   "metadata": {},
   "outputs": [],
   "source": [
    "import visualize\n",
    "visualize.visualize_propane(positions)"
   ]
  },
  {
   "cell_type": "code",
   "execution_count": null,
   "metadata": {},
   "outputs": [],
   "source": [
    "len(positions)"
   ]
  },
  {
   "cell_type": "code",
   "execution_count": null,
   "metadata": {},
   "outputs": [],
   "source": [
    "for mol_pos in positions:\n",
    "    r1 = mol_pos[2] - mol_pos[1]\n",
    "    r2 = mol_pos[0] - mol_pos[1]\n",
    "    r1 = utility.convert_to_unit_vector(r1)\n",
    "    r2 = utility.convert_to_unit_vector(r2)\n",
    "    print(np.arccos(np.dot(r1,r2)))"
   ]
  },
  {
   "cell_type": "code",
   "execution_count": null,
   "metadata": {},
   "outputs": [],
   "source": [
    "# r1,r2 = init.generate_random_molecule(1.5)\n",
    "r1 = np.array([0,0,0])\n",
    "r2 = np.array([1.5,0,0])"
   ]
  },
  {
   "cell_type": "code",
   "execution_count": null,
   "metadata": {},
   "outputs": [],
   "source": [
    "np.pi"
   ]
  },
  {
   "cell_type": "code",
   "execution_count": null,
   "metadata": {},
   "outputs": [],
   "source": [
    "mol_pos = [r1,r2]"
   ]
  },
  {
   "cell_type": "code",
   "execution_count": null,
   "metadata": {},
   "outputs": [],
   "source": [
    "def add_bond(mol_pos, beta = 1):\n",
    "    r = mol_pos[-2] - mol_pos[-1]\n",
    "    r = r / np.linalg.norm(r)\n",
    "    print(r)\n",
    "    flag = False\n",
    "    while flag == False:\n",
    "        r_new = generate_random_unit_vector()\n",
    "        theta = np.arccos(np.dot(r,r_new))\n",
    "        \n",
    "        energy = 0.5*k_prop*(theta- theta_mean)**2\n",
    "        if theta > 1.5:\n",
    "            print(theta)\n",
    "            print(\"energy\" ,energy)\n",
    "        \n",
    "        if random.random() < np.exp(-beta*energy):\n",
    "            r_new  = r_new *  bond_length + mol_pos[-1]\n",
    "            flag = True\n",
    "            return r_new\n",
    "    \n"
   ]
  },
  {
   "cell_type": "code",
   "execution_count": null,
   "metadata": {},
   "outputs": [],
   "source": [
    "r3 = add_bond(mol_pos)"
   ]
  },
  {
   "cell_type": "code",
   "execution_count": null,
   "metadata": {},
   "outputs": [],
   "source": [
    "mol_pos.append(r3)\n"
   ]
  },
  {
   "cell_type": "code",
   "execution_count": null,
   "metadata": {},
   "outputs": [],
   "source": [
    "mol_pos"
   ]
  },
  {
   "cell_type": "code",
   "execution_count": null,
   "metadata": {},
   "outputs": [],
   "source": [
    "positions = [mol_pos]\n",
    "import visualize\n",
    "visualize.visualize_propane(positions)"
   ]
  },
  {
   "cell_type": "code",
   "execution_count": null,
   "metadata": {},
   "outputs": [],
   "source": []
  },
  {
   "cell_type": "code",
   "execution_count": null,
   "metadata": {},
   "outputs": [],
   "source": [
    "from utility import *\n",
    "def add_bond_optimal(mol_pos, beta = 1):\n",
    "    z = mol_pos[-2] - mol_pos[-1]\n",
    "    y = np.array([0,1,0]) \n",
    "    if z[1] != 0:\n",
    "        y = np.array([1,-(z[0]+z[2])/z[1],1])\n",
    "\n",
    "    x = np.cross(y,z)\n",
    "\n",
    "    #convert to unit vectors\n",
    "    z = convert_to_unit_vector(z)\n",
    "    y = convert_to_unit_vector(y)\n",
    "    x = convert_to_unit_vector(x)\n",
    "\n",
    "    #adding bond in spherical coordintate system for ease \n",
    "\n",
    "    r = bond_length\n",
    "    theta = theta_mean\n",
    "    phi = random.random() * (6.28)\n",
    "    print(theta_mean)\n",
    "    #converting this back to cartesian coordintates\n",
    "\n",
    "    return mol_pos[-1] + (r*np.sin(theta)*np.cos(phi))*x + (r*np.sin(theta)*np.sin(phi))*y + (r*np.cos(theta))*z\n",
    "\n"
   ]
  },
  {
   "cell_type": "code",
   "execution_count": null,
   "metadata": {},
   "outputs": [],
   "source": [
    "r1 = np.array([0,0,0])\n",
    "r2 = np.array([1,0,0])\n",
    "\n",
    "mol_pos = [r1,r2]"
   ]
  },
  {
   "cell_type": "code",
   "execution_count": null,
   "metadata": {},
   "outputs": [],
   "source": [
    "r3 = add_bond_optimal(mol_pos)\n"
   ]
  },
  {
   "cell_type": "code",
   "execution_count": null,
   "metadata": {},
   "outputs": [],
   "source": [
    "print(np.arccos(np.dot(convert_to_unit_vector(r3-r2),convert_to_unit_vector(r1-r2))))"
   ]
  },
  {
   "cell_type": "code",
   "execution_count": null,
   "metadata": {},
   "outputs": [],
   "source": [
    "r3"
   ]
  },
  {
   "cell_type": "code",
   "execution_count": null,
   "metadata": {},
   "outputs": [],
   "source": [
    "np.dot(r3-r2,r1-r2)"
   ]
  },
  {
   "cell_type": "code",
   "execution_count": null,
   "metadata": {},
   "outputs": [],
   "source": [
    "import utility\n",
    "positions = utility.read_positions_from_file(\"../project_runs/run10/8700/positions.npy\")"
   ]
  },
  {
   "cell_type": "code",
   "execution_count": null,
   "metadata": {},
   "outputs": [],
   "source": [
    "positions"
   ]
  },
  {
   "cell_type": "code",
   "execution_count": null,
   "metadata": {},
   "outputs": [],
   "source": [
    "import visualize\n",
    "visualize.visualize_propane(positions)"
   ]
  },
  {
   "cell_type": "code",
   "execution_count": null,
   "metadata": {},
   "outputs": [],
   "source": [
    "from config import *\n",
    "utility.total_energy(positions,box_length)"
   ]
  },
  {
   "cell_type": "code",
   "execution_count": null,
   "metadata": {},
   "outputs": [],
   "source": [
    "import numpy as np\n",
    "energy = np.zeros(Npart)\n",
    "for i in range(len(positions)):\n",
    "    for j in range(i+1,len(positions)):\n",
    "        e = utility.find_potential_between_alkanes(positions[i],positions[j],box_length)\n",
    "        energy[i] += e\n",
    "        energy[j] +=e\n",
    "\n"
   ]
  },
  {
   "cell_type": "code",
   "execution_count": null,
   "metadata": {},
   "outputs": [],
   "source": [
    "utility.energy_of_particle(77,0,positions,box_length)"
   ]
  },
  {
   "cell_type": "code",
   "execution_count": 1,
   "metadata": {},
   "outputs": [
    {
     "name": "stdout",
     "output_type": "stream",
     "text": [
      "356976833.6148417 -0.4489337185285087\n",
      "Old state accepted\n",
      "0\n",
      "energies 122.80466431259822 122.80466431259822\n",
      "-0.2140264573530293 -0.8270809200499379\n",
      "New state accepted\n",
      "0.6130544626969087\n",
      "energies 123.41771877529513 5770.420513612467\n",
      "23.15858274242435 -1.4903633797035378\n",
      "Old state accepted\n",
      "0\n",
      "energies 123.41771877529513 5770.420513612467\n",
      "-0.4289408368715096 5646.78876837983\n",
      "New state accepted\n",
      "-5647.217709216701\n"
     ]
    },
    {
     "name": "stderr",
     "output_type": "stream",
     "text": [
      "/tmp/ipykernel_4948/1955306976.py:19: RuntimeWarning: overflow encountered in exp\n",
      "  if random.random() < np.exp(-beta *(Un-Uo)):\n"
     ]
    },
    {
     "name": "stdout",
     "output_type": "stream",
     "text": [
      "energies -5523.799990441406 123.34305517579531\n",
      "68745.58909088289 -2.0516575808888926\n",
      "Old state accepted\n",
      "0\n",
      "energies -5523.799990441406 123.34305517579531\n",
      "669.5353373426424 -0.4662899292062043\n",
      "Old state accepted\n",
      "0\n",
      "energies -5523.799990441406 123.34305517579531\n",
      "-1.6403602959814645 -0.5061907597280597\n",
      "New state accepted\n",
      "-1.1341695362534048\n",
      "energies -5524.93415997766 123.50062471683466\n",
      "-0.9953088199491463 42.27802858705267\n",
      "New state accepted\n",
      "-43.27333740700181\n",
      "energies -5568.207497384662 80.98638337646364\n",
      "245903.12662319795 1.1875534399527055\n",
      "Old state accepted\n",
      "0\n",
      "energies -5568.207497384662 80.98638337646364\n",
      "-0.12136140179581562 -1.811876444989592\n",
      "Old state accepted\n",
      "0\n",
      "energies -5568.207497384662 80.98638337646364\n",
      "10818896.28399732 -1.429687582972529\n",
      "Old state accepted\n",
      "0\n",
      "energies -5568.207497384662 80.98638337646364\n",
      "144966030841.7312 -0.18440365745278792\n",
      "Old state accepted\n",
      "0\n",
      "energies -5568.207497384662 80.98638337646364\n",
      "126.28326645805289 -1.7579661885271427\n",
      "Old state accepted\n",
      "0\n",
      "energies -5568.207497384662 80.98638337646364\n",
      "660.2202808425799 -1.214118997290182\n",
      "Old state accepted\n",
      "0\n",
      "energies -5568.207497384662 80.98638337646364\n",
      "-0.2300965644777428 -1.811876444989592\n",
      "New state accepted\n",
      "1.5817798805118493\n",
      "energies -5566.62571750415 82.40707900343271\n",
      "-3.0985897969684992 -0.10583958905183599\n",
      "New state accepted\n",
      "-2.9927502079166635\n",
      "energies -5569.618467712066 81.96312000089303\n",
      "1991945.1729990577 -0.4165130697206658\n",
      "Old state accepted\n",
      "0\n",
      "energies -5569.618467712066 81.96312000089303\n",
      "39.13230407143669 -0.23703374790555717\n",
      "Old state accepted\n",
      "0\n",
      "energies -5569.618467712066 81.96312000089303\n",
      "737.0736174226798 -1.4912439350732365\n",
      "Old state accepted\n",
      "0\n",
      "energies -5569.618467712066 81.96312000089303\n",
      "221.55142269016312 -0.612577337908997\n",
      "Old state accepted\n",
      "0\n",
      "energies -5569.618467712066 81.96312000089303\n",
      "112.33629016966945 2.1887823565560924\n",
      "Old state accepted\n",
      "0\n",
      "energies -5569.618467712066 81.96312000089303\n",
      "535.3206341845716 -0.3847973835212629\n",
      "Old state accepted\n",
      "0\n",
      "energies -5569.618467712066 81.96312000089303\n",
      "1165049919900341.0 73.18407912088574\n",
      "Old state accepted\n",
      "0\n",
      "energies -5569.618467712066 81.96312000089303\n",
      "2495192025.279607 -0.704150404561462\n",
      "Old state accepted\n",
      "0\n",
      "energies -5569.618467712066 81.96312000089303\n",
      "1277.9666530610066 -1.3438532326964818\n",
      "Old state accepted\n",
      "0\n",
      "energies -5569.618467712066 81.96312000089303\n",
      "-2.0852815641239073 -0.617931220608846\n",
      "New state accepted\n",
      "-1.4673503435150614\n",
      "energies -5571.0858180555815 82.01976194112483\n",
      "1571.857494155891 -0.3928219949195468\n",
      "Old state accepted\n",
      "0\n",
      "energies -5571.0858180555815 82.01976194112483\n",
      "5.795736506236968 -1.3477830834412405\n",
      "Old state accepted\n",
      "0\n",
      "energies -5571.0858180555815 82.01976194112483\n",
      "35.535622474698386 72.928756765241\n",
      "New state accepted\n",
      "-37.39313429054262\n",
      "energies -5608.478952346124 8.298805590519013\n",
      "-0.8005594601423747 -0.2025688176273691\n",
      "New state accepted\n",
      "-0.5979906425150056\n",
      "energies -5609.076942988639 8.265427544990771\n",
      "-1.7818681527587057 -1.3741938294108156\n",
      "New state accepted\n",
      "-0.4076743233478901\n",
      "energies -5609.484617311987 9.200706137588032\n",
      "-0.14976421804909132 -0.36181961783707184\n",
      "New state accepted\n",
      "0.21205539978798052\n",
      "energies -5609.272561912198 9.46922578559905\n",
      "57.26527524051676 -0.3513949384477884\n",
      "Old state accepted\n",
      "0\n",
      "energies -5609.272561912198 9.46922578559905\n",
      "43.67148667560387 -0.6026823122676084\n",
      "Old state accepted\n",
      "0\n",
      "energies -5609.272561912198 9.46922578559905\n",
      "-1.2811759323751555 -0.5658647340053355\n",
      "New state accepted\n",
      "-0.7153111983698199\n",
      "energies -5609.987873110568 9.638398414772883\n",
      "-0.1505409818730012 -2.8900867456052675\n",
      "Old state accepted\n",
      "0\n",
      "energies -5609.987873110568 9.638398414772883\n",
      "122.08589578465136 -0.20406018070051538\n",
      "Old state accepted\n",
      "0\n",
      "energies -5609.987873110568 9.638398414772883\n",
      "-3.1951146685816454 -1.5317991542555724\n",
      "New state accepted\n",
      "-1.663315514326073\n",
      "energies -5611.6511886248945 10.418194205824598\n",
      "121658.76980835665 -1.466546182189905\n",
      "Old state accepted\n",
      "0\n",
      "energies -5611.6511886248945 10.418194205824598\n",
      "2167947322.1696978 -2.119522440414638\n",
      "Old state accepted\n",
      "0\n",
      "energies -5611.6511886248945 10.418194205824598\n",
      "130694303.3127236 -1.4528474324950928\n",
      "Old state accepted\n",
      "0\n",
      "energies -5611.6511886248945 10.418194205824598\n",
      "96774.94632166819 -0.14959557523852549\n",
      "Old state accepted\n",
      "0\n",
      "energies -5611.6511886248945 10.418194205824598\n",
      "-2.297295013214476 -0.19878605441893538\n",
      "New state accepted\n",
      "-2.0985089587955406\n",
      "energies -5613.74969758369 10.148847343683745\n",
      "-2.011390038818657 -0.5638207492148518\n",
      "New state accepted\n",
      "-1.4475692896038055\n",
      "energies -5615.197266873294 9.962429205546988\n",
      "778479.8296455628 -0.09334139970791502\n",
      "Old state accepted\n",
      "0\n",
      "energies -5615.197266873294 9.962429205546988\n",
      "23815130497.296448 -0.6847229410973198\n",
      "Old state accepted\n",
      "0\n",
      "energies -5615.197266873294 9.962429205546988\n",
      "952830.4286587462 -1.5184909140087248\n",
      "Old state accepted\n",
      "0\n",
      "energies -5615.197266873294 9.962429205546988\n",
      "-2.412656543710244 -0.4663098804540042\n",
      "New state accepted\n",
      "-1.9463466632562398\n",
      "energies -5617.14361353655 10.01442932432098\n",
      "-2.3983554117214685 -0.5785828770957128\n",
      "New state accepted\n",
      "-1.8197725346257556\n",
      "energies -5618.963386071176 10.222537313558727\n",
      "16927696.742429327 -0.28147690142096643\n",
      "Old state accepted\n",
      "0\n",
      "energies -5618.963386071176 10.222537313558727\n",
      "328.2685700339171 -0.7964422616064746\n",
      "Old state accepted\n",
      "0\n",
      "energies -5618.963386071176 10.222537313558727\n",
      "-0.6970448874530932 -0.37426609707544267\n",
      "New state accepted\n",
      "-0.32277879037765056\n",
      "energies -5619.2861648615535 10.4209501510424\n",
      "15733557.608849632 -2.0730787514515385\n",
      "Old state accepted\n",
      "0\n",
      "energies -5619.2861648615535 10.4209501510424\n",
      "33.46711151021602 -0.9112278998833853\n",
      "Old state accepted\n",
      "0\n",
      "energies -5619.2861648615535 10.4209501510424\n",
      "12.831648735760334 -0.551790771729226\n",
      "Old state accepted\n",
      "0\n",
      "energies -5619.2861648615535 10.4209501510424\n",
      "-0.6775533864301517 -0.6555307629537047\n",
      "New state accepted\n",
      "-0.022022623476447012\n",
      "energies -5619.3081874850295 10.782705722040559\n",
      "-3.1957517978475147 -0.29762488922225716\n",
      "New state accepted\n",
      "-2.8981269086252577\n",
      "energies -5622.206314393655 10.5045649097859\n",
      "-2.6352518870619903 -0.2938390170507999\n",
      "New state accepted\n",
      "-2.3414128700111903\n",
      "energies -5624.547727263666 10.185886173010111\n",
      "1768090245168653.5 -1.1243785676195792\n",
      "Old state accepted\n",
      "0\n",
      "energies -5624.547727263666 10.185886173010111\n",
      "1974163877327.9646 -0.2043433000190283\n",
      "Old state accepted\n",
      "0\n",
      "energies -5624.547727263666 10.185886173010111\n",
      "11704862.300657649 -0.4778860504811576\n",
      "Old state accepted\n",
      "0\n",
      "energies -5624.547727263666 10.185886173010111\n",
      "47.97247462049614 -1.248327905641765\n",
      "Old state accepted\n",
      "0\n",
      "energies -5624.547727263666 10.185886173010111\n",
      "60.87788786356848 -0.1220264884164857\n",
      "Old state accepted\n",
      "0\n",
      "energies -5624.547727263666 10.185886173010111\n",
      "-1.7601705972325339 -1.388957179596004\n",
      "New state accepted\n",
      "-0.3712134176365298\n",
      "energies -5624.918940681303 10.07266385541337\n",
      "18.002555938039716 -0.7080370457292199\n",
      "Old state accepted\n",
      "0\n",
      "energies -5624.918940681303 10.07266385541337\n",
      "38.94851269335904 -0.3870855133024811\n",
      "Old state accepted\n",
      "0\n",
      "energies -5624.918940681303 10.07266385541337\n",
      "5464.166210255608 -0.18912451180319925\n",
      "Old state accepted\n",
      "0\n",
      "energies -5624.918940681303 10.07266385541337\n",
      "-0.225131949970074 -1.1364005016942271\n",
      "Old state accepted\n",
      "0\n",
      "energies -5624.918940681303 10.07266385541337\n",
      "1398127539.5678575 39.33662691274157\n",
      "Old state accepted\n",
      "0\n",
      "energies -5624.918940681303 10.07266385541337\n",
      "-0.46690531231006405 -1.1745927311736357\n",
      "New state accepted\n",
      "0.7076874188635717\n",
      "energies -5624.21125326244 10.017143963685928\n",
      "4774.074143881724 -0.30287709995690837\n",
      "Old state accepted\n",
      "0\n",
      "energies -5624.21125326244 10.017143963685928\n",
      "7419476584979.318 -0.10022028648685631\n",
      "Old state accepted\n",
      "0\n",
      "energies -5624.21125326244 10.017143963685928\n",
      "1595120849.7757022 -0.36203851969717926\n",
      "Old state accepted\n",
      "0\n"
     ]
    },
    {
     "ename": "KeyboardInterrupt",
     "evalue": "",
     "output_type": "error",
     "traceback": [
      "\u001b[0;31m---------------------------------------------------------------------------\u001b[0m",
      "\u001b[0;31mKeyboardInterrupt\u001b[0m                         Traceback (most recent call last)",
      "\u001b[0;32m/tmp/ipykernel_4948/1955306976.py\u001b[0m in \u001b[0;36m<module>\u001b[0;34m\u001b[0m\n\u001b[1;32m     34\u001b[0m     \u001b[0mprint\u001b[0m\u001b[0;34m(\u001b[0m\u001b[0menergy_change\u001b[0m\u001b[0;34m)\u001b[0m\u001b[0;34m\u001b[0m\u001b[0;34m\u001b[0m\u001b[0m\n\u001b[1;32m     35\u001b[0m     \u001b[0menergy\u001b[0m\u001b[0;34m+=\u001b[0m \u001b[0menergy_change\u001b[0m\u001b[0;34m\u001b[0m\u001b[0;34m\u001b[0m\u001b[0m\n\u001b[0;32m---> 36\u001b[0;31m     \u001b[0mprint\u001b[0m\u001b[0;34m(\u001b[0m\u001b[0;34m\"energies\"\u001b[0m \u001b[0;34m,\u001b[0m\u001b[0menergy\u001b[0m\u001b[0;34m,\u001b[0m \u001b[0mutility\u001b[0m\u001b[0;34m.\u001b[0m\u001b[0mtotal_energy\u001b[0m\u001b[0;34m(\u001b[0m\u001b[0mpositions\u001b[0m\u001b[0;34m,\u001b[0m \u001b[0mbox_length\u001b[0m\u001b[0;34m)\u001b[0m\u001b[0;34m)\u001b[0m\u001b[0;34m\u001b[0m\u001b[0;34m\u001b[0m\u001b[0m\n\u001b[0m\u001b[1;32m     37\u001b[0m \u001b[0;34m\u001b[0m\u001b[0m\n\u001b[1;32m     38\u001b[0m \u001b[0;34m\u001b[0m\u001b[0m\n",
      "\u001b[0;32m~/Desktop/CBMC_CHAIN_SIMULATION/utility.py\u001b[0m in \u001b[0;36mtotal_energy\u001b[0;34m(positions, box_length)\u001b[0m\n\u001b[1;32m     39\u001b[0m     \u001b[0;32mfor\u001b[0m \u001b[0mi\u001b[0m \u001b[0;32min\u001b[0m \u001b[0mrange\u001b[0m\u001b[0;34m(\u001b[0m\u001b[0mlen\u001b[0m\u001b[0;34m(\u001b[0m\u001b[0mpositions\u001b[0m\u001b[0;34m)\u001b[0m\u001b[0;34m)\u001b[0m\u001b[0;34m:\u001b[0m\u001b[0;34m\u001b[0m\u001b[0;34m\u001b[0m\u001b[0m\n\u001b[1;32m     40\u001b[0m         \u001b[0;32mfor\u001b[0m \u001b[0mj\u001b[0m \u001b[0;32min\u001b[0m \u001b[0mrange\u001b[0m\u001b[0;34m(\u001b[0m\u001b[0mi\u001b[0m\u001b[0;34m+\u001b[0m\u001b[0;36m1\u001b[0m\u001b[0;34m,\u001b[0m \u001b[0mlen\u001b[0m\u001b[0;34m(\u001b[0m\u001b[0mpositions\u001b[0m\u001b[0;34m)\u001b[0m\u001b[0;34m)\u001b[0m\u001b[0;34m:\u001b[0m\u001b[0;34m\u001b[0m\u001b[0;34m\u001b[0m\u001b[0m\n\u001b[0;32m---> 41\u001b[0;31m             \u001b[0menergy\u001b[0m \u001b[0;34m+=\u001b[0m \u001b[0mfind_potential_between_alkanes\u001b[0m\u001b[0;34m(\u001b[0m\u001b[0mpositions\u001b[0m\u001b[0;34m[\u001b[0m\u001b[0mi\u001b[0m\u001b[0;34m]\u001b[0m\u001b[0;34m,\u001b[0m \u001b[0mpositions\u001b[0m\u001b[0;34m[\u001b[0m\u001b[0mj\u001b[0m\u001b[0;34m]\u001b[0m\u001b[0;34m,\u001b[0m\u001b[0mbox_length\u001b[0m\u001b[0;34m)\u001b[0m\u001b[0;34m\u001b[0m\u001b[0;34m\u001b[0m\u001b[0m\n\u001b[0m\u001b[1;32m     42\u001b[0m \u001b[0;34m\u001b[0m\u001b[0m\n\u001b[1;32m     43\u001b[0m     \u001b[0;32mreturn\u001b[0m \u001b[0menergy\u001b[0m\u001b[0;34m\u001b[0m\u001b[0;34m\u001b[0m\u001b[0m\n",
      "\u001b[0;32m~/Desktop/CBMC_CHAIN_SIMULATION/utility.py\u001b[0m in \u001b[0;36mfind_potential_between_alkanes\u001b[0;34m(mol_pos1, mol_pos2, box_length)\u001b[0m\n\u001b[1;32m     31\u001b[0m     \u001b[0;32mfor\u001b[0m \u001b[0matom_pos_1\u001b[0m \u001b[0;32min\u001b[0m \u001b[0mmol_pos1\u001b[0m\u001b[0;34m:\u001b[0m\u001b[0;34m\u001b[0m\u001b[0;34m\u001b[0m\u001b[0m\n\u001b[1;32m     32\u001b[0m         \u001b[0;32mfor\u001b[0m \u001b[0matom_pos_2\u001b[0m \u001b[0;32min\u001b[0m \u001b[0mmol_pos2\u001b[0m\u001b[0;34m:\u001b[0m\u001b[0;34m\u001b[0m\u001b[0;34m\u001b[0m\u001b[0m\n\u001b[0;32m---> 33\u001b[0;31m             \u001b[0menergy\u001b[0m \u001b[0;34m+=\u001b[0m \u001b[0mlj_potential\u001b[0m\u001b[0;34m(\u001b[0m\u001b[0matom_pos_1\u001b[0m\u001b[0;34m,\u001b[0m \u001b[0matom_pos_2\u001b[0m\u001b[0;34m,\u001b[0m\u001b[0mbox_length\u001b[0m\u001b[0;34m)\u001b[0m\u001b[0;34m\u001b[0m\u001b[0;34m\u001b[0m\u001b[0m\n\u001b[0m\u001b[1;32m     34\u001b[0m \u001b[0;34m\u001b[0m\u001b[0m\n\u001b[1;32m     35\u001b[0m     \u001b[0;32mreturn\u001b[0m \u001b[0menergy\u001b[0m\u001b[0;34m\u001b[0m\u001b[0;34m\u001b[0m\u001b[0m\n",
      "\u001b[0;32m~/Desktop/CBMC_CHAIN_SIMULATION/utility.py\u001b[0m in \u001b[0;36mlj_potential\u001b[0;34m(atom_pos1, atom_pos2, box_length)\u001b[0m\n\u001b[1;32m     20\u001b[0m \u001b[0;32mdef\u001b[0m \u001b[0mlj_potential\u001b[0m\u001b[0;34m(\u001b[0m\u001b[0matom_pos1\u001b[0m\u001b[0;34m,\u001b[0m \u001b[0matom_pos2\u001b[0m\u001b[0;34m,\u001b[0m\u001b[0mbox_length\u001b[0m\u001b[0;34m)\u001b[0m\u001b[0;34m:\u001b[0m\u001b[0;34m\u001b[0m\u001b[0;34m\u001b[0m\u001b[0m\n\u001b[1;32m     21\u001b[0m     \u001b[0mdx\u001b[0m\u001b[0;34m,\u001b[0m \u001b[0mdy\u001b[0m\u001b[0;34m,\u001b[0m \u001b[0mdz\u001b[0m  \u001b[0;34m=\u001b[0m \u001b[0matom_pos1\u001b[0m \u001b[0;34m-\u001b[0m \u001b[0matom_pos2\u001b[0m\u001b[0;34m\u001b[0m\u001b[0;34m\u001b[0m\u001b[0m\n\u001b[0;32m---> 22\u001b[0;31m     \u001b[0mdx\u001b[0m\u001b[0;34m,\u001b[0m \u001b[0mdy\u001b[0m\u001b[0;34m,\u001b[0m \u001b[0mdz\u001b[0m \u001b[0;34m=\u001b[0m \u001b[0mpbc\u001b[0m\u001b[0;34m(\u001b[0m\u001b[0mdx\u001b[0m\u001b[0;34m,\u001b[0m\u001b[0mbox_length\u001b[0m\u001b[0;34m)\u001b[0m \u001b[0;34m,\u001b[0m \u001b[0mpbc\u001b[0m\u001b[0;34m(\u001b[0m\u001b[0mdy\u001b[0m\u001b[0;34m,\u001b[0m\u001b[0mbox_length\u001b[0m\u001b[0;34m)\u001b[0m \u001b[0;34m,\u001b[0m \u001b[0mpbc\u001b[0m\u001b[0;34m(\u001b[0m\u001b[0mdz\u001b[0m\u001b[0;34m,\u001b[0m\u001b[0mbox_length\u001b[0m\u001b[0;34m)\u001b[0m\u001b[0;34m\u001b[0m\u001b[0;34m\u001b[0m\u001b[0m\n\u001b[0m\u001b[1;32m     23\u001b[0m     \u001b[0mr\u001b[0m \u001b[0;34m=\u001b[0m \u001b[0mdx\u001b[0m\u001b[0;34m*\u001b[0m\u001b[0mdx\u001b[0m \u001b[0;34m+\u001b[0m \u001b[0mdy\u001b[0m\u001b[0;34m*\u001b[0m\u001b[0mdy\u001b[0m \u001b[0;34m+\u001b[0m \u001b[0mdz\u001b[0m \u001b[0;34m*\u001b[0m \u001b[0mdz\u001b[0m\u001b[0;34m\u001b[0m\u001b[0;34m\u001b[0m\u001b[0m\n\u001b[1;32m     24\u001b[0m     \u001b[0;31m# print(r)\u001b[0m\u001b[0;34m\u001b[0m\u001b[0;34m\u001b[0m\u001b[0m\n",
      "\u001b[0;32m~/Desktop/CBMC_CHAIN_SIMULATION/utility.py\u001b[0m in \u001b[0;36mpbc\u001b[0;34m(dx, L)\u001b[0m\n\u001b[1;32m     13\u001b[0m     \u001b[0;32mif\u001b[0m \u001b[0mdx\u001b[0m \u001b[0;34m>\u001b[0m \u001b[0mL\u001b[0m\u001b[0;34m/\u001b[0m\u001b[0;36m2\u001b[0m\u001b[0;34m:\u001b[0m\u001b[0;34m\u001b[0m\u001b[0;34m\u001b[0m\u001b[0m\n\u001b[1;32m     14\u001b[0m         \u001b[0mdx\u001b[0m \u001b[0;34m-=\u001b[0m \u001b[0mL\u001b[0m\u001b[0;34m\u001b[0m\u001b[0;34m\u001b[0m\u001b[0m\n\u001b[0;32m---> 15\u001b[0;31m     \u001b[0;32mif\u001b[0m \u001b[0mdx\u001b[0m \u001b[0;34m<\u001b[0m \u001b[0;34m-\u001b[0m\u001b[0mL\u001b[0m\u001b[0;34m/\u001b[0m\u001b[0;36m2\u001b[0m\u001b[0;34m:\u001b[0m\u001b[0;34m\u001b[0m\u001b[0;34m\u001b[0m\u001b[0m\n\u001b[0m\u001b[1;32m     16\u001b[0m         \u001b[0mdx\u001b[0m \u001b[0;34m+=\u001b[0m \u001b[0mL\u001b[0m\u001b[0;34m\u001b[0m\u001b[0;34m\u001b[0m\u001b[0m\n\u001b[1;32m     17\u001b[0m \u001b[0;34m\u001b[0m\u001b[0m\n",
      "\u001b[0;31mKeyboardInterrupt\u001b[0m: "
     ]
    }
   ],
   "source": [
    "import init\n",
    "import utility\n",
    "import visualize\n",
    "import numpy as np\n",
    "import random\n",
    "\n",
    "#parameters\n",
    "\n",
    "from config import *\n",
    "\n",
    "def MC_step(positions, Npart):\n",
    "    \n",
    "    idx = random.randint(0,Npart-1)\n",
    "    Uo = utility.energy_of_a_chain(idx, positions, box_length)\n",
    "    prev_position = np.copy(positions[idx])\n",
    "    positions[idx] = init.generate_random_molecule(bond_length)\n",
    "    Un = utility.energy_of_a_chain(idx,positions,bond_length)\n",
    "    print(Un, Uo)\n",
    "    if random.random() < np.exp(-beta *(Un-Uo)):\n",
    "        print(f\"New state accepted\")\n",
    "        return positions, Un-Uo\n",
    "    else :\n",
    "        positions[idx] = prev_position\n",
    "        print(f\"Old state accepted\")\n",
    "        return positions, 0\n",
    "\n",
    "    \n",
    "\n",
    "positions = init.init_system(box_length, Npart)\n",
    "energy = utility.total_energy(positions,box_length)\n",
    "\n"
   ]
  },
  {
   "cell_type": "code",
   "execution_count": null,
   "metadata": {},
   "outputs": [],
   "source": []
  }
 ],
 "metadata": {
  "kernelspec": {
   "display_name": "Python 3",
   "language": "python",
   "name": "python3"
  },
  "language_info": {
   "codemirror_mode": {
    "name": "ipython",
    "version": 3
   },
   "file_extension": ".py",
   "mimetype": "text/x-python",
   "name": "python",
   "nbconvert_exporter": "python",
   "pygments_lexer": "ipython3",
   "version": "3.10.6"
  },
  "orig_nbformat": 4
 },
 "nbformat": 4,
 "nbformat_minor": 2
}
